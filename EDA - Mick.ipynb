{
 "cells": [
  {
   "cell_type": "code",
   "execution_count": 1,
   "metadata": {},
   "outputs": [],
   "source": [
    "from pathlib import Path\n",
    "import yaml\n",
    "import pandas as pd"
   ]
  },
  {
   "cell_type": "code",
   "execution_count": 2,
   "metadata": {},
   "outputs": [
    {
     "name": "stdout",
     "output_type": "stream",
     "text": [
      "wd: D:\\github\\jupyter\\medleydb, metadata: D:\\github\\jupyter\\medleydb\\medleydb\\data\\Metadata, audio: D:\\Mickaël\\Documents\\MIR\\Medley\\MedleyDB_V1\\V1\n"
     ]
    }
   ],
   "source": [
    "wd_path = Path.cwd()\n",
    "metadata_path = wd_path.joinpath(\"medleydb/data/Metadata\")\n",
    "\n",
    "audio_path = Path(\"D:\\Mickaël\\Documents\\MIR\\Medley\\MedleyDB_V1\\V1\")\n",
    "\n",
    "print(\"wd: {}, metadata: {}, audio: {}\".format(wd_path, metadata_path, audio_path))"
   ]
  },
  {
   "cell_type": "markdown",
   "metadata": {},
   "source": [
    "### Liste des fichiers audio de la V1"
   ]
  },
  {
   "cell_type": "code",
   "execution_count": 3,
   "metadata": {},
   "outputs": [],
   "source": [
    "audio_files = [a.name for a in audio_path.iterdir() if a.is_dir()]"
   ]
  },
  {
   "cell_type": "code",
   "execution_count": 4,
   "metadata": {},
   "outputs": [
    {
     "data": {
      "text/plain": [
       "['AClassicEducation_NightOwl',\n",
       " 'AimeeNorwich_Child',\n",
       " 'AimeeNorwich_Flying',\n",
       " 'AlexanderRoss_GoodbyeBolero',\n",
       " 'AlexanderRoss_VelvetCurtain']"
      ]
     },
     "execution_count": 4,
     "metadata": {},
     "output_type": "execute_result"
    }
   ],
   "source": [
    "audio_files[:5]"
   ]
  },
  {
   "cell_type": "markdown",
   "metadata": {},
   "source": [
    "### Parcours des metadata"
   ]
  },
  {
   "cell_type": "code",
   "execution_count": 5,
   "metadata": {},
   "outputs": [
    {
     "data": {
      "text/plain": [
       "[WindowsPath('D:/github/jupyter/medleydb/medleydb/data/Metadata/AcDc_BackInBlack_METADATA.yaml'),\n",
       " WindowsPath('D:/github/jupyter/medleydb/medleydb/data/Metadata/AClassicEducation_NightOwl_METADATA.yaml'),\n",
       " WindowsPath('D:/github/jupyter/medleydb/medleydb/data/Metadata/Adele_SomeoneLikeYou_METADATA.yaml'),\n",
       " WindowsPath('D:/github/jupyter/medleydb/medleydb/data/Metadata/Aerosmith_LoveInAnElevator_METADATA.yaml'),\n",
       " WindowsPath('D:/github/jupyter/medleydb/medleydb/data/Metadata/AHa_TakeOnMe_METADATA.yaml')]"
      ]
     },
     "execution_count": 5,
     "metadata": {},
     "output_type": "execute_result"
    }
   ],
   "source": [
    "metadata_files = [m for m in metadata_path.glob('*.yaml')]\n",
    "metadata_files[:5]"
   ]
  },
  {
   "cell_type": "code",
   "execution_count": 6,
   "metadata": {},
   "outputs": [
    {
     "data": {
      "text/plain": [
       "['AcDc_BackInBlack',\n",
       " 'AClassicEducation_NightOwl',\n",
       " 'Adele_SomeoneLikeYou',\n",
       " 'Aerosmith_LoveInAnElevator',\n",
       " 'AHa_TakeOnMe']"
      ]
     },
     "execution_count": 6,
     "metadata": {},
     "output_type": "execute_result"
    }
   ],
   "source": [
    "metadata_filenames = [m.name.split(\"_METADATA\")[0] for m in metadata_files]\n",
    "metadata_filenames[:5]"
   ]
  },
  {
   "cell_type": "code",
   "execution_count": 7,
   "metadata": {},
   "outputs": [],
   "source": [
    "match = [m for m in metadata_files if m.name.split(\"_METADATA\")[0] in audio_files]"
   ]
  },
  {
   "cell_type": "code",
   "execution_count": 8,
   "metadata": {},
   "outputs": [
    {
     "data": {
      "text/plain": [
       "122"
      ]
     },
     "execution_count": 8,
     "metadata": {},
     "output_type": "execute_result"
    }
   ],
   "source": [
    "len(match)"
   ]
  },
  {
   "cell_type": "markdown",
   "metadata": {},
   "source": [
    "### Création d'un dataframe à partir des fichiers metadata"
   ]
  },
  {
   "cell_type": "code",
   "execution_count": 9,
   "metadata": {},
   "outputs": [],
   "source": [
    "metadata_df = pd.read_csv(metadata_path.joinpath(\"metadata.csv\"), index_col=0)"
   ]
  },
  {
   "cell_type": "raw",
   "metadata": {},
   "source": [
    "metadata_df = pd.DataFrame()"
   ]
  },
  {
   "cell_type": "raw",
   "metadata": {},
   "source": [
    "for f in match:\n",
    "    with open(f, 'r') as stream:\n",
    "        m = pd.json_normalize(yaml.load(stream, Loader=yaml.FullLoader), max_level=0)\n",
    "    metadata_df = metadata_df.append(m, ignore_index=True)"
   ]
  },
  {
   "cell_type": "raw",
   "metadata": {},
   "source": [
    "metadata_df.to_csv(metadata_path.joinpath(\"metadata.csv\"))"
   ]
  },
  {
   "cell_type": "code",
   "execution_count": 10,
   "metadata": {},
   "outputs": [
    {
     "data": {
      "text/html": [
       "<div>\n",
       "<style scoped>\n",
       "    .dataframe tbody tr th:only-of-type {\n",
       "        vertical-align: middle;\n",
       "    }\n",
       "\n",
       "    .dataframe tbody tr th {\n",
       "        vertical-align: top;\n",
       "    }\n",
       "\n",
       "    .dataframe thead th {\n",
       "        text-align: right;\n",
       "    }\n",
       "</style>\n",
       "<table border=\"1\" class=\"dataframe\">\n",
       "  <thead>\n",
       "    <tr style=\"text-align: right;\">\n",
       "      <th></th>\n",
       "      <th>album</th>\n",
       "      <th>artist</th>\n",
       "      <th>composer</th>\n",
       "      <th>excerpt</th>\n",
       "      <th>genre</th>\n",
       "      <th>has_bleed</th>\n",
       "      <th>instrumental</th>\n",
       "      <th>mix_filename</th>\n",
       "      <th>origin</th>\n",
       "      <th>producer</th>\n",
       "      <th>raw_dir</th>\n",
       "      <th>stem_dir</th>\n",
       "      <th>stems</th>\n",
       "      <th>title</th>\n",
       "      <th>version</th>\n",
       "      <th>website</th>\n",
       "    </tr>\n",
       "  </thead>\n",
       "  <tbody>\n",
       "    <tr>\n",
       "      <th>0</th>\n",
       "      <td>Shaking Through Volume 2</td>\n",
       "      <td>A Classic Education</td>\n",
       "      <td>['A Classic Education']</td>\n",
       "      <td>no</td>\n",
       "      <td>Singer/Songwriter</td>\n",
       "      <td>no</td>\n",
       "      <td>no</td>\n",
       "      <td>AClassicEducation_NightOwl_MIX.wav</td>\n",
       "      <td>Weathervane Music</td>\n",
       "      <td>['Andy Williams']</td>\n",
       "      <td>AClassicEducation_NightOwl_RAW</td>\n",
       "      <td>AClassicEducation_NightOwl_STEMS</td>\n",
       "      <td>{'S01': {'component': 'bass', 'filename': 'ACl...</td>\n",
       "      <td>Night Owl</td>\n",
       "      <td>1.2</td>\n",
       "      <td>['www.shakingthrough.com/aclassiceducation']</td>\n",
       "    </tr>\n",
       "    <tr>\n",
       "      <th>1</th>\n",
       "      <td>NaN</td>\n",
       "      <td>Aimee Norwich</td>\n",
       "      <td>['Aimee Norwich']</td>\n",
       "      <td>no</td>\n",
       "      <td>Singer/Songwriter</td>\n",
       "      <td>no</td>\n",
       "      <td>no</td>\n",
       "      <td>AimeeNorwich_Child_MIX.wav</td>\n",
       "      <td>Independent Artist</td>\n",
       "      <td>['Aimee Norwich &amp; Senem Pirler']</td>\n",
       "      <td>AimeeNorwich_Child_RAW</td>\n",
       "      <td>AimeeNorwich_Child_STEMS</td>\n",
       "      <td>{'S01': {'component': '', 'filename': 'AimeeNo...</td>\n",
       "      <td>Child</td>\n",
       "      <td>1.2</td>\n",
       "      <td>['www.aimeenorwich.com']</td>\n",
       "    </tr>\n",
       "    <tr>\n",
       "      <th>2</th>\n",
       "      <td>NaN</td>\n",
       "      <td>Aimee Norwich</td>\n",
       "      <td>['Aimee Norwich']</td>\n",
       "      <td>no</td>\n",
       "      <td>World/Folk</td>\n",
       "      <td>no</td>\n",
       "      <td>yes</td>\n",
       "      <td>AimeeNorwich_Flying_MIX.wav</td>\n",
       "      <td>Independent Artist</td>\n",
       "      <td>['Aimee Norwich &amp; Senem Pirler']</td>\n",
       "      <td>AimeeNorwich_Flying_RAW</td>\n",
       "      <td>AimeeNorwich_Flying_STEMS</td>\n",
       "      <td>{'S01': {'component': '', 'filename': 'AimeeNo...</td>\n",
       "      <td>Flying</td>\n",
       "      <td>1.2</td>\n",
       "      <td>['www.aimeenorwich.com']</td>\n",
       "    </tr>\n",
       "    <tr>\n",
       "      <th>3</th>\n",
       "      <td>NaN</td>\n",
       "      <td>Alexander Ross</td>\n",
       "      <td>['Alexander Ross']</td>\n",
       "      <td>no</td>\n",
       "      <td>Singer/Songwriter</td>\n",
       "      <td>no</td>\n",
       "      <td>no</td>\n",
       "      <td>AlexanderRoss_GoodbyeBolero_MIX.wav</td>\n",
       "      <td>Independent Artist</td>\n",
       "      <td>['Mike Tierney']</td>\n",
       "      <td>AlexanderRoss_GoodbyeBolero_RAW</td>\n",
       "      <td>AlexanderRoss_GoodbyeBolero_STEMS</td>\n",
       "      <td>{'S01': {'component': '', 'filename': 'Alexand...</td>\n",
       "      <td>Goodbye Bolero</td>\n",
       "      <td>1.2</td>\n",
       "      <td>[]</td>\n",
       "    </tr>\n",
       "    <tr>\n",
       "      <th>4</th>\n",
       "      <td>NaN</td>\n",
       "      <td>Alexander Ross</td>\n",
       "      <td>['Alexander Ross']</td>\n",
       "      <td>no</td>\n",
       "      <td>Singer/Songwriter</td>\n",
       "      <td>no</td>\n",
       "      <td>no</td>\n",
       "      <td>AlexanderRoss_VelvetCurtain_MIX.wav</td>\n",
       "      <td>Independent Artist</td>\n",
       "      <td>['Mike Tierney']</td>\n",
       "      <td>AlexanderRoss_VelvetCurtain_RAW</td>\n",
       "      <td>AlexanderRoss_VelvetCurtain_STEMS</td>\n",
       "      <td>{'S01': {'component': 'melody', 'filename': 'A...</td>\n",
       "      <td>Velvet Curtain</td>\n",
       "      <td>1.2</td>\n",
       "      <td>[]</td>\n",
       "    </tr>\n",
       "  </tbody>\n",
       "</table>\n",
       "</div>"
      ],
      "text/plain": [
       "                      album               artist                 composer  \\\n",
       "0  Shaking Through Volume 2  A Classic Education  ['A Classic Education']   \n",
       "1                       NaN        Aimee Norwich        ['Aimee Norwich']   \n",
       "2                       NaN        Aimee Norwich        ['Aimee Norwich']   \n",
       "3                       NaN       Alexander Ross       ['Alexander Ross']   \n",
       "4                       NaN       Alexander Ross       ['Alexander Ross']   \n",
       "\n",
       "  excerpt              genre has_bleed instrumental  \\\n",
       "0      no  Singer/Songwriter        no           no   \n",
       "1      no  Singer/Songwriter        no           no   \n",
       "2      no         World/Folk        no          yes   \n",
       "3      no  Singer/Songwriter        no           no   \n",
       "4      no  Singer/Songwriter        no           no   \n",
       "\n",
       "                          mix_filename              origin  \\\n",
       "0   AClassicEducation_NightOwl_MIX.wav   Weathervane Music   \n",
       "1           AimeeNorwich_Child_MIX.wav  Independent Artist   \n",
       "2          AimeeNorwich_Flying_MIX.wav  Independent Artist   \n",
       "3  AlexanderRoss_GoodbyeBolero_MIX.wav  Independent Artist   \n",
       "4  AlexanderRoss_VelvetCurtain_MIX.wav  Independent Artist   \n",
       "\n",
       "                           producer                          raw_dir  \\\n",
       "0                 ['Andy Williams']   AClassicEducation_NightOwl_RAW   \n",
       "1  ['Aimee Norwich & Senem Pirler']           AimeeNorwich_Child_RAW   \n",
       "2  ['Aimee Norwich & Senem Pirler']          AimeeNorwich_Flying_RAW   \n",
       "3                  ['Mike Tierney']  AlexanderRoss_GoodbyeBolero_RAW   \n",
       "4                  ['Mike Tierney']  AlexanderRoss_VelvetCurtain_RAW   \n",
       "\n",
       "                            stem_dir  \\\n",
       "0   AClassicEducation_NightOwl_STEMS   \n",
       "1           AimeeNorwich_Child_STEMS   \n",
       "2          AimeeNorwich_Flying_STEMS   \n",
       "3  AlexanderRoss_GoodbyeBolero_STEMS   \n",
       "4  AlexanderRoss_VelvetCurtain_STEMS   \n",
       "\n",
       "                                               stems           title  version  \\\n",
       "0  {'S01': {'component': 'bass', 'filename': 'ACl...       Night Owl      1.2   \n",
       "1  {'S01': {'component': '', 'filename': 'AimeeNo...           Child      1.2   \n",
       "2  {'S01': {'component': '', 'filename': 'AimeeNo...          Flying      1.2   \n",
       "3  {'S01': {'component': '', 'filename': 'Alexand...  Goodbye Bolero      1.2   \n",
       "4  {'S01': {'component': 'melody', 'filename': 'A...  Velvet Curtain      1.2   \n",
       "\n",
       "                                        website  \n",
       "0  ['www.shakingthrough.com/aclassiceducation']  \n",
       "1                      ['www.aimeenorwich.com']  \n",
       "2                      ['www.aimeenorwich.com']  \n",
       "3                                            []  \n",
       "4                                            []  "
      ]
     },
     "execution_count": 10,
     "metadata": {},
     "output_type": "execute_result"
    }
   ],
   "source": [
    "metadata_df.head()"
   ]
  },
  {
   "cell_type": "markdown",
   "metadata": {},
   "source": [
    "### Instrumentaux"
   ]
  },
  {
   "cell_type": "code",
   "execution_count": 11,
   "metadata": {},
   "outputs": [
    {
     "data": {
      "text/plain": [
       "(59, 16)"
      ]
     },
     "execution_count": 11,
     "metadata": {},
     "output_type": "execute_result"
    }
   ],
   "source": [
    "instru = metadata_df.query(\"instrumental == 'yes'\")\n",
    "instru.shape"
   ]
  },
  {
   "cell_type": "code",
   "execution_count": 12,
   "metadata": {},
   "outputs": [
    {
     "data": {
      "text/html": [
       "<div>\n",
       "<style scoped>\n",
       "    .dataframe tbody tr th:only-of-type {\n",
       "        vertical-align: middle;\n",
       "    }\n",
       "\n",
       "    .dataframe tbody tr th {\n",
       "        vertical-align: top;\n",
       "    }\n",
       "\n",
       "    .dataframe thead th {\n",
       "        text-align: right;\n",
       "    }\n",
       "</style>\n",
       "<table border=\"1\" class=\"dataframe\">\n",
       "  <thead>\n",
       "    <tr style=\"text-align: right;\">\n",
       "      <th></th>\n",
       "      <th>album</th>\n",
       "      <th>artist</th>\n",
       "      <th>composer</th>\n",
       "      <th>excerpt</th>\n",
       "      <th>genre</th>\n",
       "      <th>has_bleed</th>\n",
       "      <th>instrumental</th>\n",
       "      <th>mix_filename</th>\n",
       "      <th>origin</th>\n",
       "      <th>producer</th>\n",
       "      <th>raw_dir</th>\n",
       "      <th>stem_dir</th>\n",
       "      <th>stems</th>\n",
       "      <th>title</th>\n",
       "      <th>version</th>\n",
       "      <th>website</th>\n",
       "    </tr>\n",
       "  </thead>\n",
       "  <tbody>\n",
       "    <tr>\n",
       "      <th>2</th>\n",
       "      <td>NaN</td>\n",
       "      <td>Aimee Norwich</td>\n",
       "      <td>['Aimee Norwich']</td>\n",
       "      <td>no</td>\n",
       "      <td>World/Folk</td>\n",
       "      <td>no</td>\n",
       "      <td>yes</td>\n",
       "      <td>AimeeNorwich_Flying_MIX.wav</td>\n",
       "      <td>Independent Artist</td>\n",
       "      <td>['Aimee Norwich &amp; Senem Pirler']</td>\n",
       "      <td>AimeeNorwich_Flying_RAW</td>\n",
       "      <td>AimeeNorwich_Flying_STEMS</td>\n",
       "      <td>{'S01': {'component': '', 'filename': 'AimeeNo...</td>\n",
       "      <td>Flying</td>\n",
       "      <td>1.2</td>\n",
       "      <td>['www.aimeenorwich.com']</td>\n",
       "    </tr>\n",
       "    <tr>\n",
       "      <th>5</th>\n",
       "      <td>NaN</td>\n",
       "      <td>Amar Lal</td>\n",
       "      <td>['Amar Lal']</td>\n",
       "      <td>no</td>\n",
       "      <td>Singer/Songwriter</td>\n",
       "      <td>no</td>\n",
       "      <td>yes</td>\n",
       "      <td>AmarLal_Rest_MIX.wav</td>\n",
       "      <td>Independent Artist</td>\n",
       "      <td>['Amar Lal']</td>\n",
       "      <td>AmarLal_Rest_RAW</td>\n",
       "      <td>AmarLal_Rest_STEMS</td>\n",
       "      <td>{'S01': {'component': 'melody', 'filename': 'A...</td>\n",
       "      <td>Rest</td>\n",
       "      <td>1.2</td>\n",
       "      <td>['amar.bandcamp.com']</td>\n",
       "    </tr>\n",
       "    <tr>\n",
       "      <th>6</th>\n",
       "      <td>NaN</td>\n",
       "      <td>Amar Lal</td>\n",
       "      <td>['Amar Lal']</td>\n",
       "      <td>no</td>\n",
       "      <td>Singer/Songwriter</td>\n",
       "      <td>no</td>\n",
       "      <td>yes</td>\n",
       "      <td>AmarLal_SpringDay1_MIX.wav</td>\n",
       "      <td>Independent Artist</td>\n",
       "      <td>['Amar Lal']</td>\n",
       "      <td>AmarLal_SpringDay1_RAW</td>\n",
       "      <td>AmarLal_SpringDay1_STEMS</td>\n",
       "      <td>{'S01': {'component': 'melody', 'filename': 'A...</td>\n",
       "      <td>Spring Day 1</td>\n",
       "      <td>1.2</td>\n",
       "      <td>['amar.bandcamp.com']</td>\n",
       "    </tr>\n",
       "    <tr>\n",
       "      <th>13</th>\n",
       "      <td>Fiddle Tunes</td>\n",
       "      <td>Chris Jacoby</td>\n",
       "      <td>['PD/Trad']</td>\n",
       "      <td>no</td>\n",
       "      <td>World/Folk</td>\n",
       "      <td>yes</td>\n",
       "      <td>yes</td>\n",
       "      <td>ChrisJacoby_BoothShotLincoln_MIX.wav</td>\n",
       "      <td>Dolan Studio</td>\n",
       "      <td>['Ethan Hein']</td>\n",
       "      <td>ChrisJacoby_BoothShotLincoln_RAW</td>\n",
       "      <td>ChrisJacoby_BoothShotLincoln_STEMS</td>\n",
       "      <td>{'S01': {'component': '', 'filename': 'ChrisJa...</td>\n",
       "      <td>Booth Shot Lincoln</td>\n",
       "      <td>1.2</td>\n",
       "      <td>['www.christopherjacoby.com']</td>\n",
       "    </tr>\n",
       "    <tr>\n",
       "      <th>14</th>\n",
       "      <td>Fiddle Tunes</td>\n",
       "      <td>Chris Jacoby</td>\n",
       "      <td>['PD/Trad']</td>\n",
       "      <td>no</td>\n",
       "      <td>World/Folk</td>\n",
       "      <td>yes</td>\n",
       "      <td>yes</td>\n",
       "      <td>ChrisJacoby_PigsFoot_MIX.wav</td>\n",
       "      <td>Dolan Studio</td>\n",
       "      <td>['Ethan Hein']</td>\n",
       "      <td>ChrisJacoby_PigsFoot_RAW</td>\n",
       "      <td>ChrisJacoby_PigsFoot_STEMS</td>\n",
       "      <td>{'S01': {'component': '', 'filename': 'ChrisJa...</td>\n",
       "      <td>Pigs Foot</td>\n",
       "      <td>1.2</td>\n",
       "      <td>['www.christopherjacoby.com']</td>\n",
       "    </tr>\n",
       "  </tbody>\n",
       "</table>\n",
       "</div>"
      ],
      "text/plain": [
       "           album         artist           composer excerpt              genre  \\\n",
       "2            NaN  Aimee Norwich  ['Aimee Norwich']      no         World/Folk   \n",
       "5            NaN       Amar Lal       ['Amar Lal']      no  Singer/Songwriter   \n",
       "6            NaN       Amar Lal       ['Amar Lal']      no  Singer/Songwriter   \n",
       "13  Fiddle Tunes   Chris Jacoby        ['PD/Trad']      no         World/Folk   \n",
       "14  Fiddle Tunes   Chris Jacoby        ['PD/Trad']      no         World/Folk   \n",
       "\n",
       "   has_bleed instrumental                          mix_filename  \\\n",
       "2         no          yes           AimeeNorwich_Flying_MIX.wav   \n",
       "5         no          yes                  AmarLal_Rest_MIX.wav   \n",
       "6         no          yes            AmarLal_SpringDay1_MIX.wav   \n",
       "13       yes          yes  ChrisJacoby_BoothShotLincoln_MIX.wav   \n",
       "14       yes          yes          ChrisJacoby_PigsFoot_MIX.wav   \n",
       "\n",
       "                origin                          producer  \\\n",
       "2   Independent Artist  ['Aimee Norwich & Senem Pirler']   \n",
       "5   Independent Artist                      ['Amar Lal']   \n",
       "6   Independent Artist                      ['Amar Lal']   \n",
       "13        Dolan Studio                    ['Ethan Hein']   \n",
       "14        Dolan Studio                    ['Ethan Hein']   \n",
       "\n",
       "                             raw_dir                            stem_dir  \\\n",
       "2            AimeeNorwich_Flying_RAW           AimeeNorwich_Flying_STEMS   \n",
       "5                   AmarLal_Rest_RAW                  AmarLal_Rest_STEMS   \n",
       "6             AmarLal_SpringDay1_RAW            AmarLal_SpringDay1_STEMS   \n",
       "13  ChrisJacoby_BoothShotLincoln_RAW  ChrisJacoby_BoothShotLincoln_STEMS   \n",
       "14          ChrisJacoby_PigsFoot_RAW          ChrisJacoby_PigsFoot_STEMS   \n",
       "\n",
       "                                                stems               title  \\\n",
       "2   {'S01': {'component': '', 'filename': 'AimeeNo...              Flying   \n",
       "5   {'S01': {'component': 'melody', 'filename': 'A...                Rest   \n",
       "6   {'S01': {'component': 'melody', 'filename': 'A...        Spring Day 1   \n",
       "13  {'S01': {'component': '', 'filename': 'ChrisJa...  Booth Shot Lincoln   \n",
       "14  {'S01': {'component': '', 'filename': 'ChrisJa...           Pigs Foot   \n",
       "\n",
       "    version                        website  \n",
       "2       1.2       ['www.aimeenorwich.com']  \n",
       "5       1.2          ['amar.bandcamp.com']  \n",
       "6       1.2          ['amar.bandcamp.com']  \n",
       "13      1.2  ['www.christopherjacoby.com']  \n",
       "14      1.2  ['www.christopherjacoby.com']  "
      ]
     },
     "execution_count": 12,
     "metadata": {},
     "output_type": "execute_result"
    }
   ],
   "source": [
    "instru.head()"
   ]
  },
  {
   "cell_type": "code",
   "execution_count": 13,
   "metadata": {},
   "outputs": [
    {
     "data": {
      "text/plain": [
       "array(['World/Folk', 'Singer/Songwriter', 'Jazz', 'Electronic/Fusion',\n",
       "       'Classical', 'Rock'], dtype=object)"
      ]
     },
     "execution_count": 13,
     "metadata": {},
     "output_type": "execute_result"
    }
   ],
   "source": [
    "instru[\"genre\"].unique()"
   ]
  },
  {
   "cell_type": "code",
   "execution_count": 14,
   "metadata": {},
   "outputs": [],
   "source": [
    "s = eval(instru.query(\"genre == 'Jazz'\").iloc[0].stems)"
   ]
  },
  {
   "cell_type": "code",
   "execution_count": 15,
   "metadata": {},
   "outputs": [
    {
     "name": "stdout",
     "output_type": "stream",
     "text": [
      "piano\n",
      "clean electric guitar\n",
      "double bass\n",
      "drum set\n"
     ]
    },
    {
     "data": {
      "text/plain": [
       "True"
      ]
     },
     "execution_count": 15,
     "metadata": {},
     "output_type": "execute_result"
    }
   ],
   "source": [
    "for c in s:\n",
    "    print(s[c][\"instrument\"])\n",
    "    \n",
    "\"clean electric guitar\" in [s[c][\"instrument\"] for c in s]"
   ]
  },
  {
   "cell_type": "code",
   "execution_count": 16,
   "metadata": {},
   "outputs": [],
   "source": [
    "def contains_guitar(f):\n",
    "    f = eval(f)\n",
    "    return \"clean electric guitar\" in [f[c][\"instrument\"] for c in f]"
   ]
  },
  {
   "cell_type": "code",
   "execution_count": 19,
   "metadata": {},
   "outputs": [],
   "source": [
    "instru.loc[:, \"guitar\"] = instru.loc[:, \"stems\"]"
   ]
  },
  {
   "cell_type": "code",
   "execution_count": 20,
   "metadata": {},
   "outputs": [],
   "source": [
    "instru.loc[:, \"guitar\"] = instru[\"guitar\"].map(contains_guitar)"
   ]
  },
  {
   "cell_type": "code",
   "execution_count": 21,
   "metadata": {},
   "outputs": [
    {
     "data": {
      "text/html": [
       "<div>\n",
       "<style scoped>\n",
       "    .dataframe tbody tr th:only-of-type {\n",
       "        vertical-align: middle;\n",
       "    }\n",
       "\n",
       "    .dataframe tbody tr th {\n",
       "        vertical-align: top;\n",
       "    }\n",
       "\n",
       "    .dataframe thead th {\n",
       "        text-align: right;\n",
       "    }\n",
       "</style>\n",
       "<table border=\"1\" class=\"dataframe\">\n",
       "  <thead>\n",
       "    <tr style=\"text-align: right;\">\n",
       "      <th></th>\n",
       "      <th>album</th>\n",
       "      <th>artist</th>\n",
       "      <th>composer</th>\n",
       "      <th>excerpt</th>\n",
       "      <th>genre</th>\n",
       "      <th>has_bleed</th>\n",
       "      <th>instrumental</th>\n",
       "      <th>mix_filename</th>\n",
       "      <th>origin</th>\n",
       "      <th>producer</th>\n",
       "      <th>raw_dir</th>\n",
       "      <th>stem_dir</th>\n",
       "      <th>stems</th>\n",
       "      <th>title</th>\n",
       "      <th>version</th>\n",
       "      <th>website</th>\n",
       "      <th>guitar</th>\n",
       "    </tr>\n",
       "  </thead>\n",
       "  <tbody>\n",
       "    <tr>\n",
       "      <th>2</th>\n",
       "      <td>NaN</td>\n",
       "      <td>Aimee Norwich</td>\n",
       "      <td>['Aimee Norwich']</td>\n",
       "      <td>no</td>\n",
       "      <td>World/Folk</td>\n",
       "      <td>no</td>\n",
       "      <td>yes</td>\n",
       "      <td>AimeeNorwich_Flying_MIX.wav</td>\n",
       "      <td>Independent Artist</td>\n",
       "      <td>['Aimee Norwich &amp; Senem Pirler']</td>\n",
       "      <td>AimeeNorwich_Flying_RAW</td>\n",
       "      <td>AimeeNorwich_Flying_STEMS</td>\n",
       "      <td>{'S01': {'component': '', 'filename': 'AimeeNo...</td>\n",
       "      <td>Flying</td>\n",
       "      <td>1.2</td>\n",
       "      <td>['www.aimeenorwich.com']</td>\n",
       "      <td>True</td>\n",
       "    </tr>\n",
       "    <tr>\n",
       "      <th>5</th>\n",
       "      <td>NaN</td>\n",
       "      <td>Amar Lal</td>\n",
       "      <td>['Amar Lal']</td>\n",
       "      <td>no</td>\n",
       "      <td>Singer/Songwriter</td>\n",
       "      <td>no</td>\n",
       "      <td>yes</td>\n",
       "      <td>AmarLal_Rest_MIX.wav</td>\n",
       "      <td>Independent Artist</td>\n",
       "      <td>['Amar Lal']</td>\n",
       "      <td>AmarLal_Rest_RAW</td>\n",
       "      <td>AmarLal_Rest_STEMS</td>\n",
       "      <td>{'S01': {'component': 'melody', 'filename': 'A...</td>\n",
       "      <td>Rest</td>\n",
       "      <td>1.2</td>\n",
       "      <td>['amar.bandcamp.com']</td>\n",
       "      <td>True</td>\n",
       "    </tr>\n",
       "    <tr>\n",
       "      <th>13</th>\n",
       "      <td>Fiddle Tunes</td>\n",
       "      <td>Chris Jacoby</td>\n",
       "      <td>['PD/Trad']</td>\n",
       "      <td>no</td>\n",
       "      <td>World/Folk</td>\n",
       "      <td>yes</td>\n",
       "      <td>yes</td>\n",
       "      <td>ChrisJacoby_BoothShotLincoln_MIX.wav</td>\n",
       "      <td>Dolan Studio</td>\n",
       "      <td>['Ethan Hein']</td>\n",
       "      <td>ChrisJacoby_BoothShotLincoln_RAW</td>\n",
       "      <td>ChrisJacoby_BoothShotLincoln_STEMS</td>\n",
       "      <td>{'S01': {'component': '', 'filename': 'ChrisJa...</td>\n",
       "      <td>Booth Shot Lincoln</td>\n",
       "      <td>1.2</td>\n",
       "      <td>['www.christopherjacoby.com']</td>\n",
       "      <td>True</td>\n",
       "    </tr>\n",
       "    <tr>\n",
       "      <th>21</th>\n",
       "      <td>NaN</td>\n",
       "      <td>Croque Madame</td>\n",
       "      <td>['Mike Tierney']</td>\n",
       "      <td>no</td>\n",
       "      <td>Jazz</td>\n",
       "      <td>yes</td>\n",
       "      <td>yes</td>\n",
       "      <td>CroqueMadame_Oil_MIX.wav</td>\n",
       "      <td>Independent Artist</td>\n",
       "      <td>['Mike Tierney']</td>\n",
       "      <td>CroqueMadame_Oil_RAW</td>\n",
       "      <td>CroqueMadame_Oil_STEMS</td>\n",
       "      <td>{'S01': {'component': 'melody', 'filename': 'C...</td>\n",
       "      <td>Oil</td>\n",
       "      <td>1.2</td>\n",
       "      <td>[]</td>\n",
       "      <td>True</td>\n",
       "    </tr>\n",
       "    <tr>\n",
       "      <th>22</th>\n",
       "      <td>NaN</td>\n",
       "      <td>Croque Madame</td>\n",
       "      <td>['Mike Tierney']</td>\n",
       "      <td>no</td>\n",
       "      <td>Jazz</td>\n",
       "      <td>yes</td>\n",
       "      <td>yes</td>\n",
       "      <td>CroqueMadame_Pilot_MIX.wav</td>\n",
       "      <td>Independent Artist</td>\n",
       "      <td>['Mike Tierney']</td>\n",
       "      <td>CroqueMadame_Pilot_RAW</td>\n",
       "      <td>CroqueMadame_Pilot_STEMS</td>\n",
       "      <td>{'S01': {'component': 'melody', 'filename': 'C...</td>\n",
       "      <td>Pilot (Lakelot)</td>\n",
       "      <td>1.2</td>\n",
       "      <td>[]</td>\n",
       "      <td>True</td>\n",
       "    </tr>\n",
       "    <tr>\n",
       "      <th>88</th>\n",
       "      <td>NaN</td>\n",
       "      <td>Music Delta</td>\n",
       "      <td>['Music Delta']</td>\n",
       "      <td>yes</td>\n",
       "      <td>Rock</td>\n",
       "      <td>no</td>\n",
       "      <td>yes</td>\n",
       "      <td>MusicDelta_Shadows_MIX.wav</td>\n",
       "      <td>Music Delta</td>\n",
       "      <td>['Samuel Nacach']</td>\n",
       "      <td>MusicDelta_Shadows_RAW</td>\n",
       "      <td>MusicDelta_Shadows_STEMS</td>\n",
       "      <td>{'S01': {'component': 'bass', 'filename': 'Mus...</td>\n",
       "      <td>Shadows</td>\n",
       "      <td>1.2</td>\n",
       "      <td>[]</td>\n",
       "      <td>True</td>\n",
       "    </tr>\n",
       "    <tr>\n",
       "      <th>112</th>\n",
       "      <td>Music Information Retrieval</td>\n",
       "      <td>Tabla Breakbeat Science</td>\n",
       "      <td>['Ethan Hein']</td>\n",
       "      <td>no</td>\n",
       "      <td>Electronic/Fusion</td>\n",
       "      <td>no</td>\n",
       "      <td>yes</td>\n",
       "      <td>TablaBreakbeatScience_MoodyPlucks_MIX.wav</td>\n",
       "      <td>Dolan Studio</td>\n",
       "      <td>['Ethan Hein']</td>\n",
       "      <td>TablaBreakbeatScience_MoodyPlucks_RAW</td>\n",
       "      <td>TablaBreakbeatScience_MoodyPlucks_STEMS</td>\n",
       "      <td>{'S01': {'component': '', 'filename': 'TablaBr...</td>\n",
       "      <td>Moody Plucks</td>\n",
       "      <td>1.2</td>\n",
       "      <td>['www.ethanhein.com']</td>\n",
       "      <td>True</td>\n",
       "    </tr>\n",
       "    <tr>\n",
       "      <th>116</th>\n",
       "      <td>Music Information Retrieval</td>\n",
       "      <td>Tabla Breakbeat Science</td>\n",
       "      <td>['Ethan Hein']</td>\n",
       "      <td>no</td>\n",
       "      <td>Electronic/Fusion</td>\n",
       "      <td>no</td>\n",
       "      <td>yes</td>\n",
       "      <td>TablaBreakbeatScience_Vger_MIX.wav</td>\n",
       "      <td>Dolan Studio</td>\n",
       "      <td>['Ethan Hein']</td>\n",
       "      <td>TablaBreakbeatScience_Vger_RAW</td>\n",
       "      <td>TablaBreakbeatScience_Vger_STEMS</td>\n",
       "      <td>{'S01': {'component': '', 'filename': 'TablaBr...</td>\n",
       "      <td>Vger</td>\n",
       "      <td>1.2</td>\n",
       "      <td>['www.ethanhein.com']</td>\n",
       "      <td>True</td>\n",
       "    </tr>\n",
       "  </tbody>\n",
       "</table>\n",
       "</div>"
      ],
      "text/plain": [
       "                           album                   artist           composer  \\\n",
       "2                            NaN            Aimee Norwich  ['Aimee Norwich']   \n",
       "5                            NaN                 Amar Lal       ['Amar Lal']   \n",
       "13                  Fiddle Tunes             Chris Jacoby        ['PD/Trad']   \n",
       "21                           NaN            Croque Madame   ['Mike Tierney']   \n",
       "22                           NaN            Croque Madame   ['Mike Tierney']   \n",
       "88                           NaN              Music Delta    ['Music Delta']   \n",
       "112  Music Information Retrieval  Tabla Breakbeat Science     ['Ethan Hein']   \n",
       "116  Music Information Retrieval  Tabla Breakbeat Science     ['Ethan Hein']   \n",
       "\n",
       "    excerpt              genre has_bleed instrumental  \\\n",
       "2        no         World/Folk        no          yes   \n",
       "5        no  Singer/Songwriter        no          yes   \n",
       "13       no         World/Folk       yes          yes   \n",
       "21       no               Jazz       yes          yes   \n",
       "22       no               Jazz       yes          yes   \n",
       "88      yes               Rock        no          yes   \n",
       "112      no  Electronic/Fusion        no          yes   \n",
       "116      no  Electronic/Fusion        no          yes   \n",
       "\n",
       "                                  mix_filename              origin  \\\n",
       "2                  AimeeNorwich_Flying_MIX.wav  Independent Artist   \n",
       "5                         AmarLal_Rest_MIX.wav  Independent Artist   \n",
       "13        ChrisJacoby_BoothShotLincoln_MIX.wav        Dolan Studio   \n",
       "21                    CroqueMadame_Oil_MIX.wav  Independent Artist   \n",
       "22                  CroqueMadame_Pilot_MIX.wav  Independent Artist   \n",
       "88                  MusicDelta_Shadows_MIX.wav         Music Delta   \n",
       "112  TablaBreakbeatScience_MoodyPlucks_MIX.wav        Dolan Studio   \n",
       "116         TablaBreakbeatScience_Vger_MIX.wav        Dolan Studio   \n",
       "\n",
       "                             producer                                raw_dir  \\\n",
       "2    ['Aimee Norwich & Senem Pirler']                AimeeNorwich_Flying_RAW   \n",
       "5                        ['Amar Lal']                       AmarLal_Rest_RAW   \n",
       "13                     ['Ethan Hein']       ChrisJacoby_BoothShotLincoln_RAW   \n",
       "21                   ['Mike Tierney']                   CroqueMadame_Oil_RAW   \n",
       "22                   ['Mike Tierney']                 CroqueMadame_Pilot_RAW   \n",
       "88                  ['Samuel Nacach']                 MusicDelta_Shadows_RAW   \n",
       "112                    ['Ethan Hein']  TablaBreakbeatScience_MoodyPlucks_RAW   \n",
       "116                    ['Ethan Hein']         TablaBreakbeatScience_Vger_RAW   \n",
       "\n",
       "                                    stem_dir  \\\n",
       "2                  AimeeNorwich_Flying_STEMS   \n",
       "5                         AmarLal_Rest_STEMS   \n",
       "13        ChrisJacoby_BoothShotLincoln_STEMS   \n",
       "21                    CroqueMadame_Oil_STEMS   \n",
       "22                  CroqueMadame_Pilot_STEMS   \n",
       "88                  MusicDelta_Shadows_STEMS   \n",
       "112  TablaBreakbeatScience_MoodyPlucks_STEMS   \n",
       "116         TablaBreakbeatScience_Vger_STEMS   \n",
       "\n",
       "                                                 stems               title  \\\n",
       "2    {'S01': {'component': '', 'filename': 'AimeeNo...              Flying   \n",
       "5    {'S01': {'component': 'melody', 'filename': 'A...                Rest   \n",
       "13   {'S01': {'component': '', 'filename': 'ChrisJa...  Booth Shot Lincoln   \n",
       "21   {'S01': {'component': 'melody', 'filename': 'C...                 Oil   \n",
       "22   {'S01': {'component': 'melody', 'filename': 'C...     Pilot (Lakelot)   \n",
       "88   {'S01': {'component': 'bass', 'filename': 'Mus...             Shadows   \n",
       "112  {'S01': {'component': '', 'filename': 'TablaBr...        Moody Plucks   \n",
       "116  {'S01': {'component': '', 'filename': 'TablaBr...                Vger   \n",
       "\n",
       "     version                        website  guitar  \n",
       "2        1.2       ['www.aimeenorwich.com']    True  \n",
       "5        1.2          ['amar.bandcamp.com']    True  \n",
       "13       1.2  ['www.christopherjacoby.com']    True  \n",
       "21       1.2                             []    True  \n",
       "22       1.2                             []    True  \n",
       "88       1.2                             []    True  \n",
       "112      1.2          ['www.ethanhein.com']    True  \n",
       "116      1.2          ['www.ethanhein.com']    True  "
      ]
     },
     "execution_count": 21,
     "metadata": {},
     "output_type": "execute_result"
    }
   ],
   "source": [
    "instru[instru[\"guitar\"] == 1]"
   ]
  },
  {
   "cell_type": "code",
   "execution_count": 22,
   "metadata": {},
   "outputs": [
    {
     "name": "stdout",
     "output_type": "stream",
     "text": [
      "train set:\n",
      "- CroqueMadame_Oil_MIX.wav\n",
      "piano, clean electric guitar, double bass, drum set\n",
      "- MusicDelta_Shadows_MIX.wav\n",
      "electric bass, drum set, clean electric guitar, clean electric guitar\n",
      "\n",
      "test set:\n",
      "- CroqueMadame_Pilot_MIX.wav\n",
      "piano, clean electric guitar, double bass, drum set\n"
     ]
    }
   ],
   "source": [
    "def explore_track(track):\n",
    "    print(\"- \" + track[\"mix_filename\"])\n",
    "    stems = eval(track[\"stems\"])\n",
    "    print(\", \".join([stems[s][\"instrument\"] for s in stems]))\n",
    "    \n",
    "# train set 21, 88\n",
    "train_set = [21, 88]\n",
    "test_set = [22]\n",
    "\n",
    "print(\"train set:\")\n",
    "for i in train_set:\n",
    "    explore_track(instru.loc[i])\n",
    "    \n",
    "print(\"\\ntest set:\")\n",
    "for i in test_set:\n",
    "    explore_track(instru.loc[i])"
   ]
  },
  {
   "cell_type": "code",
   "execution_count": 28,
   "metadata": {},
   "outputs": [
    {
     "name": "stdout",
     "output_type": "stream",
     "text": [
      "('S01', 'piano') ('S02', 'clean electric guitar') ('S03', 'double bass') ('S04', 'drum set')\n"
     ]
    }
   ],
   "source": [
    "for t in test_set:\n",
    "    stems = eval(instru.loc[t][\"stems\"])\n",
    "    print(*[(s, stems[s][\"instrument\"]) for s in stems])"
   ]
  },
  {
   "cell_type": "code",
   "execution_count": null,
   "metadata": {},
   "outputs": [],
   "source": [
    "train_target_track = [\"S02\", \"S03\"]\n",
    "test_target_track = [\"S02\"]"
   ]
  }
 ],
 "metadata": {
  "kernelspec": {
   "display_name": "Python 3",
   "language": "python",
   "name": "python3"
  },
  "language_info": {
   "codemirror_mode": {
    "name": "ipython",
    "version": 3
   },
   "file_extension": ".py",
   "mimetype": "text/x-python",
   "name": "python",
   "nbconvert_exporter": "python",
   "pygments_lexer": "ipython3",
   "version": "3.7.8"
  }
 },
 "nbformat": 4,
 "nbformat_minor": 4
}
