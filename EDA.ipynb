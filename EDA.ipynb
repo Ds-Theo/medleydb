{
 "cells": [
  {
   "cell_type": "code",
   "execution_count": null,
   "metadata": {},
   "outputs": [],
   "source": [
    "from pathlib import Path\n",
    "import yaml\n",
    "import pandas as pd"
   ]
  },
  {
   "cell_type": "code",
   "execution_count": null,
   "metadata": {
    "tags": []
   },
   "outputs": [],
   "source": [
    "wd_path = Path.cwd()\n",
    "metadata_path = wd_path.joinpath(\"medleydb/data/Metadata\")\n",
    "\n",
    "audio_path = Path(\"D:\\Théo\\MedleyDB\\V1\")\n",
    "\n",
    "print(\"wd: {}, metadata: {}, audio: {}\".format(wd_path, metadata_path, audio_path))"
   ]
  },
  {
   "cell_type": "code",
   "execution_count": null,
   "metadata": {},
   "outputs": [],
   "source": [
    "audio_files = [a.name for a in audio_path.iterdir() if a.is_dir()]"
   ]
  },
  {
   "cell_type": "code",
   "execution_count": null,
   "metadata": {},
   "outputs": [],
   "source": [
    "### Liste des fichiers audio de la V1"
   ]
  },
  {
   "cell_type": "code",
   "execution_count": null,
   "metadata": {},
   "outputs": [],
   "source": [
    "audio_files[:5]"
   ]
  },
  {
   "cell_type": "code",
   "execution_count": null,
   "metadata": {},
   "outputs": [],
   "source": [
    "### Parcours des metadata"
   ]
  },
  {
   "cell_type": "code",
   "execution_count": null,
   "metadata": {},
   "outputs": [],
   "source": [
    "metadata_files = [m for m in metadata_path.glob('*.yaml')]\n",
    "metadata_files[:5]"
   ]
  },
  {
   "cell_type": "code",
   "execution_count": null,
   "metadata": {},
   "outputs": [],
   "source": [
    "metadata_filenames = [m.name.split(\"_METADATA\")[0] for m in metadata_files]\n",
    "metadata_filenames[:5]"
   ]
  },
  {
   "cell_type": "code",
   "execution_count": null,
   "metadata": {},
   "outputs": [],
   "source": [
    "match = [m for m in metadata_files if m.name.split(\"_METADATA\")[0] in audio_files]"
   ]
  },
  {
   "cell_type": "code",
   "execution_count": null,
   "metadata": {},
   "outputs": [],
   "source": [
    "len(match)"
   ]
  },
  {
   "cell_type": "markdown",
   "metadata": {},
   "source": [
    "### Création d'un dataframe à partir des fichiers metadata"
   ]
  },
  {
   "cell_type": "code",
   "execution_count": null,
   "metadata": {},
   "outputs": [],
   "source": [
    "metadata_df = pd.read_csv(metadata_path.joinpath(\"metadata.csv\"), index_col=0)"
   ]
  },
  {
   "cell_type": "raw",
   "metadata": {},
   "source": [
    "metadata_df = pd.DataFrame()"
   ]
  },
  {
   "cell_type": "raw",
   "metadata": {},
   "source": [
    "for f in match:\n",
    "    with open(f, 'r') as stream:\n",
    "        m = pd.json_normalize(yaml.load(stream, Loader=yaml.FullLoader), max_level=0)\n",
    "    metadata_df = metadata_df.append(m, ignore_index=True)"
   ]
  },
  {
   "cell_type": "raw",
   "metadata": {},
   "source": [
    "metadata_df.to_csv(metadata_path.joinpath(\"metadata.csv\"))"
   ]
  },
  {
   "cell_type": "code",
   "execution_count": null,
   "metadata": {},
   "outputs": [],
   "source": [
    "metadata_df.head()"
   ]
  },
  {
   "cell_type": "markdown",
   "metadata": {},
   "source": [
    "### Instrumentaux"
   ]
  },
  {
   "cell_type": "code",
   "execution_count": null,
   "metadata": {},
   "outputs": [],
   "source": [
    "instru = metadata_df.query(\"instrumental == 'yes'\")\n",
    "instru.shape"
   ]
  },
  {
   "cell_type": "code",
   "execution_count": null,
   "metadata": {},
   "outputs": [],
   "source": [
    "instru.head()"
   ]
  },
  {
   "cell_type": "code",
   "execution_count": null,
   "metadata": {},
   "outputs": [],
   "source": [
    "instru[\"genre\"].unique()"
   ]
  },
  {
   "cell_type": "code",
   "execution_count": null,
   "metadata": {},
   "outputs": [],
   "source": [
    "s = eval(instru.query(\"genre == 'Jazz'\").iloc[0].stems)"
   ]
  },
  {
   "cell_type": "code",
   "execution_count": null,
   "metadata": {
    "tags": []
   },
   "outputs": [],
   "source": [
    "for c in s:\n",
    "    print(s[c][\"instrument\"])\n",
    "    \n",
    "\"clean electric guitar\" in [s[c][\"instrument\"] for c in s]"
   ]
  },
  {
   "cell_type": "code",
   "execution_count": null,
   "metadata": {},
   "outputs": [],
   "source": [
    "from collections import Counter"
   ]
  },
  {
   "cell_type": "code",
   "execution_count": null,
   "metadata": {
    "tags": []
   },
   "outputs": [],
   "source": [
    "dico = {}\n",
    "lstf = []\n",
    "\n",
    "for i in range(0,len(instru['stems']),1) : \n",
    "\n",
    "    s = eval(instru.iloc[i].stems)\n",
    "\n",
    "    for c in s:\n",
    "\n",
    "        piste = (s[c][\"filename\"])\n",
    "        inst = (s[c][\"instrument\"])\n",
    "        dico[piste] = inst\n",
    "        lstf.append(inst)\n"
   ]
  },
  {
   "cell_type": "code",
   "execution_count": null,
   "metadata": {},
   "outputs": [],
   "source": []
  },
  {
   "cell_type": "code",
   "execution_count": null,
   "metadata": {
    "tags": []
   },
   "outputs": [],
   "source": [
    "lstp = []\n",
    "\n",
    "for key, values in dico.items() :\n",
    "\n",
    "    lstp.append(key)\n",
    "\n",
    "    if key[:20] == \n",
    "\n",
    "        \n",
    "\n"
   ]
  },
  {
   "cell_type": "code",
   "execution_count": 24,
   "metadata": {},
   "outputs": [
    {
     "output_type": "execute_result",
     "data": {
      "text/plain": "Counter({'drum set': 18,\n         'fx/processed sound': 27,\n         'electric bass': 17,\n         'clean electric guitar': 10,\n         'piano': 18,\n         'cello': 13,\n         'trombone': 4,\n         'clarinet': 8,\n         'acoustic guitar': 11,\n         'drum machine': 12,\n         'mandolin': 9,\n         'tabla': 16,\n         'kick drum': 1,\n         'double bass': 16,\n         'auxiliary percussion': 6,\n         'synthesizer': 16,\n         'string section': 3,\n         'distorted electric guitar': 6,\n         'harmonica': 1,\n         'violin': 27,\n         'viola': 8,\n         'chimes': 1,\n         'snare drum': 1,\n         'flute': 12,\n         'french horn': 6,\n         'bassoon': 6,\n         'horn section': 2,\n         'trumpet': 8,\n         'tack piano': 3,\n         'violin section': 15,\n         'Main System': 6,\n         'claps': 1,\n         'darbuka': 1,\n         'doumbek': 1,\n         'oud': 2,\n         'bongo': 1,\n         'vocalists': 1,\n         'glockenspiel': 1,\n         'harp': 3,\n         'french horn section': 3,\n         'oboe': 5,\n         'bass drum': 1,\n         'cello section': 5,\n         'clarinet section': 3,\n         'cymbal': 4,\n         'gong': 2,\n         'flute section': 2,\n         'bamboo flute': 1,\n         'piccolo': 4,\n         'trombone section': 1,\n         'trumpet section': 3,\n         'viola section': 3,\n         'tenor saxophone': 2,\n         'timpani': 4,\n         'dizi': 5,\n         'erhu': 6,\n         'guzheng': 5,\n         'yangqin': 6,\n         'zhongruan': 3,\n         'liuqin': 2,\n         'gu': 1,\n         'baritone saxophone': 1,\n         'bass clarinet': 1,\n         'electric piano': 3,\n         'alto saxophone': 1,\n         'soprano saxophone': 1,\n         'brass section': 3,\n         'tuba': 2,\n         'toms': 1,\n         'accordion': 5})"
     },
     "metadata": {},
     "execution_count": 24
    }
   ],
   "source": [
    "Counter(lstf)"
   ]
  },
  {
   "cell_type": "code",
   "execution_count": null,
   "metadata": {},
   "outputs": [],
   "source": []
  },
  {
   "cell_type": "code",
   "execution_count": null,
   "metadata": {},
   "outputs": [],
   "source": [
    "def contains_guitar(f):\n",
    "    f = eval(f)\n",
    "    return \"clean electric guitar\" in [f[c][\"instrument\"] for c in f]"
   ]
  },
  {
   "cell_type": "code",
   "execution_count": null,
   "metadata": {},
   "outputs": [],
   "source": [
    "instru.loc[:, \"guitar\"] = instru.loc[:, \"stems\"]"
   ]
  },
  {
   "cell_type": "code",
   "execution_count": null,
   "metadata": {},
   "outputs": [],
   "source": [
    "instru.loc[:, \"guitar\"] = instru[\"guitar\"].map(contains_guitar)"
   ]
  },
  {
   "cell_type": "code",
   "execution_count": null,
   "metadata": {},
   "outputs": [],
   "source": [
    "instru[instru[\"guitar\"] == 1]"
   ]
  },
  {
   "cell_type": "code",
   "execution_count": null,
   "metadata": {},
   "outputs": [],
   "source": []
  },
  {
   "cell_type": "code",
   "execution_count": null,
   "metadata": {},
   "outputs": [],
   "source": []
  }
 ],
 "metadata": {
  "kernelspec": {
   "display_name": "Python 3.8.5 64-bit",
   "language": "python",
   "name": "python_defaultSpec_1597644562621"
  },
  "language_info": {
   "codemirror_mode": {
    "name": "ipython",
    "version": 3
   },
   "file_extension": ".py",
   "mimetype": "text/x-python",
   "name": "python",
   "nbconvert_exporter": "python",
   "pygments_lexer": "ipython3",
   "version": "3.8.5-final"
  }
 },
 "nbformat": 4,
 "nbformat_minor": 4
}