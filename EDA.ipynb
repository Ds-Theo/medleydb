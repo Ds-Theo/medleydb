{
 "cells": [
  {
   "cell_type": "code",
   "execution_count": 1,
   "metadata": {},
   "outputs": [],
   "source": [
    "from pathlib import Path\n",
    "import yaml\n",
    "import pandas as pd"
   ]
  },
  {
   "cell_type": "code",
   "execution_count": 2,
   "metadata": {
    "tags": []
   },
   "outputs": [
    {
     "output_type": "stream",
     "name": "stdout",
     "text": "wd: d:\\github\\medleydb-theo, metadata: d:\\github\\medleydb-theo\\medleydb\\data\\Metadata, audio: D:\\Mickaël\\Documents\\MIR\\Medley\\MedleyDB_V1\\V1\n"
    }
   ],
   "source": [
    "wd_path = Path.cwd()\n",
    "metadata_path = wd_path.joinpath(\"medleydb/data/Metadata\")\n",
    "\n",
    "audio_path = Path(\"D:\\Mickaël\\Documents\\MIR\\Medley\\MedleyDB_V1\\V1\")\n",
    "\n",
    "print(\"wd: {}, metadata: {}, audio: {}\".format(wd_path, metadata_path, audio_path))"
   ]
  },
  {
   "cell_type": "code",
   "execution_count": 3,
   "metadata": {},
   "outputs": [],
   "source": [
    "audio_files = [a.name for a in audio_path.iterdir() if a.is_dir()]"
   ]
  },
  {
   "cell_type": "markdown",
   "metadata": {},
   "source": [
    "### Liste des fichiers audio de la V1"
   ]
  },
  {
   "cell_type": "code",
   "execution_count": 4,
   "metadata": {},
   "outputs": [
    {
     "output_type": "execute_result",
     "data": {
      "text/plain": "['AClassicEducation_NightOwl',\n 'AimeeNorwich_Child',\n 'AimeeNorwich_Flying',\n 'AlexanderRoss_GoodbyeBolero',\n 'AlexanderRoss_VelvetCurtain']"
     },
     "metadata": {},
     "execution_count": 4
    }
   ],
   "source": [
    "audio_files[:5]"
   ]
  },
  {
   "cell_type": "markdown",
   "metadata": {},
   "source": [
    "### Parcours des metadata"
   ]
  },
  {
   "cell_type": "code",
   "execution_count": 5,
   "metadata": {},
   "outputs": [
    {
     "output_type": "execute_result",
     "data": {
      "text/plain": "[WindowsPath('d:/github/medleydb-theo/medleydb/data/Metadata/AcDc_BackInBlack_METADATA.yaml'),\n WindowsPath('d:/github/medleydb-theo/medleydb/data/Metadata/AClassicEducation_NightOwl_METADATA.yaml'),\n WindowsPath('d:/github/medleydb-theo/medleydb/data/Metadata/Adele_SomeoneLikeYou_METADATA.yaml'),\n WindowsPath('d:/github/medleydb-theo/medleydb/data/Metadata/Aerosmith_LoveInAnElevator_METADATA.yaml'),\n WindowsPath('d:/github/medleydb-theo/medleydb/data/Metadata/AHa_TakeOnMe_METADATA.yaml')]"
     },
     "metadata": {},
     "execution_count": 5
    }
   ],
   "source": [
    "metadata_files = [m for m in metadata_path.glob('*.yaml')]\n",
    "metadata_files[:5]"
   ]
  },
  {
   "cell_type": "code",
   "execution_count": 6,
   "metadata": {},
   "outputs": [
    {
     "output_type": "execute_result",
     "data": {
      "text/plain": "['AcDc_BackInBlack',\n 'AClassicEducation_NightOwl',\n 'Adele_SomeoneLikeYou',\n 'Aerosmith_LoveInAnElevator',\n 'AHa_TakeOnMe']"
     },
     "metadata": {},
     "execution_count": 6
    }
   ],
   "source": [
    "metadata_filenames = [m.name.split(\"_METADATA\")[0] for m in metadata_files]\n",
    "metadata_filenames[:5]"
   ]
  },
  {
   "cell_type": "code",
   "execution_count": 7,
   "metadata": {},
   "outputs": [],
   "source": [
    "match = [m for m in metadata_files if m.name.split(\"_METADATA\")[0] in audio_files]"
   ]
  },
  {
   "cell_type": "code",
   "execution_count": 8,
   "metadata": {},
   "outputs": [
    {
     "output_type": "execute_result",
     "data": {
      "text/plain": "122"
     },
     "metadata": {},
     "execution_count": 8
    }
   ],
   "source": [
    "len(match)"
   ]
  },
  {
   "cell_type": "markdown",
   "metadata": {},
   "source": [
    "### Création d'un dataframe à partir des fichiers metadata"
   ]
  },
  {
   "cell_type": "code",
   "execution_count": 9,
   "metadata": {},
   "outputs": [],
   "source": [
    "metadata_df = pd.read_csv(metadata_path.joinpath(\"metadata.csv\"), index_col=0)"
   ]
  },
  {
   "cell_type": "raw",
   "metadata": {},
   "source": [
    "metadata_df = pd.DataFrame()"
   ]
  },
  {
   "cell_type": "raw",
   "metadata": {},
   "source": [
    "for f in match:\n",
    "    with open(f, 'r') as stream:\n",
    "        m = pd.json_normalize(yaml.load(stream, Loader=yaml.FullLoader), max_level=0)\n",
    "    metadata_df = metadata_df.append(m, ignore_index=True)"
   ]
  },
  {
   "cell_type": "raw",
   "metadata": {},
   "source": [
    "metadata_df.to_csv(metadata_path.joinpath(\"metadata.csv\"))"
   ]
  },
  {
   "cell_type": "code",
   "execution_count": 10,
   "metadata": {},
   "outputs": [
    {
     "output_type": "execute_result",
     "data": {
      "text/plain": "                      album               artist                 composer  \\\n0  Shaking Through Volume 2  A Classic Education  ['A Classic Education']   \n1                       NaN        Aimee Norwich        ['Aimee Norwich']   \n2                       NaN        Aimee Norwich        ['Aimee Norwich']   \n3                       NaN       Alexander Ross       ['Alexander Ross']   \n4                       NaN       Alexander Ross       ['Alexander Ross']   \n\n  excerpt              genre has_bleed instrumental  \\\n0      no  Singer/Songwriter        no           no   \n1      no  Singer/Songwriter        no           no   \n2      no         World/Folk        no          yes   \n3      no  Singer/Songwriter        no           no   \n4      no  Singer/Songwriter        no           no   \n\n                          mix_filename              origin  \\\n0   AClassicEducation_NightOwl_MIX.wav   Weathervane Music   \n1           AimeeNorwich_Child_MIX.wav  Independent Artist   \n2          AimeeNorwich_Flying_MIX.wav  Independent Artist   \n3  AlexanderRoss_GoodbyeBolero_MIX.wav  Independent Artist   \n4  AlexanderRoss_VelvetCurtain_MIX.wav  Independent Artist   \n\n                           producer                          raw_dir  \\\n0                 ['Andy Williams']   AClassicEducation_NightOwl_RAW   \n1  ['Aimee Norwich & Senem Pirler']           AimeeNorwich_Child_RAW   \n2  ['Aimee Norwich & Senem Pirler']          AimeeNorwich_Flying_RAW   \n3                  ['Mike Tierney']  AlexanderRoss_GoodbyeBolero_RAW   \n4                  ['Mike Tierney']  AlexanderRoss_VelvetCurtain_RAW   \n\n                            stem_dir  \\\n0   AClassicEducation_NightOwl_STEMS   \n1           AimeeNorwich_Child_STEMS   \n2          AimeeNorwich_Flying_STEMS   \n3  AlexanderRoss_GoodbyeBolero_STEMS   \n4  AlexanderRoss_VelvetCurtain_STEMS   \n\n                                               stems           title  version  \\\n0  {'S01': {'component': 'bass', 'filename': 'ACl...       Night Owl      1.2   \n1  {'S01': {'component': '', 'filename': 'AimeeNo...           Child      1.2   \n2  {'S01': {'component': '', 'filename': 'AimeeNo...          Flying      1.2   \n3  {'S01': {'component': '', 'filename': 'Alexand...  Goodbye Bolero      1.2   \n4  {'S01': {'component': 'melody', 'filename': 'A...  Velvet Curtain      1.2   \n\n                                        website  \n0  ['www.shakingthrough.com/aclassiceducation']  \n1                      ['www.aimeenorwich.com']  \n2                      ['www.aimeenorwich.com']  \n3                                            []  \n4                                            []  ",
      "text/html": "<div>\n<style scoped>\n    .dataframe tbody tr th:only-of-type {\n        vertical-align: middle;\n    }\n\n    .dataframe tbody tr th {\n        vertical-align: top;\n    }\n\n    .dataframe thead th {\n        text-align: right;\n    }\n</style>\n<table border=\"1\" class=\"dataframe\">\n  <thead>\n    <tr style=\"text-align: right;\">\n      <th></th>\n      <th>album</th>\n      <th>artist</th>\n      <th>composer</th>\n      <th>excerpt</th>\n      <th>genre</th>\n      <th>has_bleed</th>\n      <th>instrumental</th>\n      <th>mix_filename</th>\n      <th>origin</th>\n      <th>producer</th>\n      <th>raw_dir</th>\n      <th>stem_dir</th>\n      <th>stems</th>\n      <th>title</th>\n      <th>version</th>\n      <th>website</th>\n    </tr>\n  </thead>\n  <tbody>\n    <tr>\n      <th>0</th>\n      <td>Shaking Through Volume 2</td>\n      <td>A Classic Education</td>\n      <td>['A Classic Education']</td>\n      <td>no</td>\n      <td>Singer/Songwriter</td>\n      <td>no</td>\n      <td>no</td>\n      <td>AClassicEducation_NightOwl_MIX.wav</td>\n      <td>Weathervane Music</td>\n      <td>['Andy Williams']</td>\n      <td>AClassicEducation_NightOwl_RAW</td>\n      <td>AClassicEducation_NightOwl_STEMS</td>\n      <td>{'S01': {'component': 'bass', 'filename': 'ACl...</td>\n      <td>Night Owl</td>\n      <td>1.2</td>\n      <td>['www.shakingthrough.com/aclassiceducation']</td>\n    </tr>\n    <tr>\n      <th>1</th>\n      <td>NaN</td>\n      <td>Aimee Norwich</td>\n      <td>['Aimee Norwich']</td>\n      <td>no</td>\n      <td>Singer/Songwriter</td>\n      <td>no</td>\n      <td>no</td>\n      <td>AimeeNorwich_Child_MIX.wav</td>\n      <td>Independent Artist</td>\n      <td>['Aimee Norwich &amp; Senem Pirler']</td>\n      <td>AimeeNorwich_Child_RAW</td>\n      <td>AimeeNorwich_Child_STEMS</td>\n      <td>{'S01': {'component': '', 'filename': 'AimeeNo...</td>\n      <td>Child</td>\n      <td>1.2</td>\n      <td>['www.aimeenorwich.com']</td>\n    </tr>\n    <tr>\n      <th>2</th>\n      <td>NaN</td>\n      <td>Aimee Norwich</td>\n      <td>['Aimee Norwich']</td>\n      <td>no</td>\n      <td>World/Folk</td>\n      <td>no</td>\n      <td>yes</td>\n      <td>AimeeNorwich_Flying_MIX.wav</td>\n      <td>Independent Artist</td>\n      <td>['Aimee Norwich &amp; Senem Pirler']</td>\n      <td>AimeeNorwich_Flying_RAW</td>\n      <td>AimeeNorwich_Flying_STEMS</td>\n      <td>{'S01': {'component': '', 'filename': 'AimeeNo...</td>\n      <td>Flying</td>\n      <td>1.2</td>\n      <td>['www.aimeenorwich.com']</td>\n    </tr>\n    <tr>\n      <th>3</th>\n      <td>NaN</td>\n      <td>Alexander Ross</td>\n      <td>['Alexander Ross']</td>\n      <td>no</td>\n      <td>Singer/Songwriter</td>\n      <td>no</td>\n      <td>no</td>\n      <td>AlexanderRoss_GoodbyeBolero_MIX.wav</td>\n      <td>Independent Artist</td>\n      <td>['Mike Tierney']</td>\n      <td>AlexanderRoss_GoodbyeBolero_RAW</td>\n      <td>AlexanderRoss_GoodbyeBolero_STEMS</td>\n      <td>{'S01': {'component': '', 'filename': 'Alexand...</td>\n      <td>Goodbye Bolero</td>\n      <td>1.2</td>\n      <td>[]</td>\n    </tr>\n    <tr>\n      <th>4</th>\n      <td>NaN</td>\n      <td>Alexander Ross</td>\n      <td>['Alexander Ross']</td>\n      <td>no</td>\n      <td>Singer/Songwriter</td>\n      <td>no</td>\n      <td>no</td>\n      <td>AlexanderRoss_VelvetCurtain_MIX.wav</td>\n      <td>Independent Artist</td>\n      <td>['Mike Tierney']</td>\n      <td>AlexanderRoss_VelvetCurtain_RAW</td>\n      <td>AlexanderRoss_VelvetCurtain_STEMS</td>\n      <td>{'S01': {'component': 'melody', 'filename': 'A...</td>\n      <td>Velvet Curtain</td>\n      <td>1.2</td>\n      <td>[]</td>\n    </tr>\n  </tbody>\n</table>\n</div>"
     },
     "metadata": {},
     "execution_count": 10
    }
   ],
   "source": [
    "metadata_df.head()"
   ]
  },
  {
   "cell_type": "markdown",
   "metadata": {},
   "source": [
    "## Liste exhaustive des instruments"
   ]
  },
  {
   "cell_type": "code",
   "execution_count": 11,
   "metadata": {
    "tags": []
   },
   "outputs": [],
   "source": [
    "# on parcours tous les stems et on ajoute les instruments à la liste\n",
    "instruments_list = []\n",
    "for stems in metadata_df[\"stems\"]:\n",
    "    stems = eval(stems)\n",
    "    for s in stems.values():\n",
    "        instruments_list.append(s[\"instrument\"])\n",
    "instruments_list = set(instruments_list)"
   ]
  },
  {
   "cell_type": "code",
   "execution_count": 12,
   "metadata": {},
   "outputs": [
    {
     "output_type": "execute_result",
     "data": {
      "text/plain": "{'Main System',\n 'accordion',\n 'acoustic guitar',\n 'alto saxophone',\n 'auxiliary percussion',\n 'bamboo flute',\n 'banjo',\n 'baritone saxophone',\n 'bass clarinet',\n 'bass drum',\n 'bassoon',\n 'bongo',\n 'brass section',\n 'cello',\n 'cello section',\n 'chimes',\n 'claps',\n 'clarinet',\n 'clarinet section',\n 'clean electric guitar',\n 'cymbal',\n 'darbuka',\n 'distorted electric guitar',\n 'dizi',\n 'double bass',\n 'doumbek',\n 'drum machine',\n 'drum set',\n 'electric bass',\n 'electric piano',\n 'erhu',\n 'female singer',\n 'flute',\n 'flute section',\n 'french horn',\n 'french horn section',\n 'fx/processed sound',\n 'glockenspiel',\n 'gong',\n 'gu',\n 'guzheng',\n 'harmonica',\n 'harp',\n 'horn section',\n 'kick drum',\n 'lap steel guitar',\n 'liuqin',\n 'male rapper',\n 'male singer',\n 'male speaker',\n 'mandolin',\n 'melodica',\n 'oboe',\n 'oud',\n 'piano',\n 'piccolo',\n 'sampler',\n 'scratches',\n 'shaker',\n 'snare drum',\n 'soprano saxophone',\n 'string section',\n 'synthesizer',\n 'tabla',\n 'tack piano',\n 'tambourine',\n 'tenor saxophone',\n 'timpani',\n 'toms',\n 'trombone',\n 'trombone section',\n 'trumpet',\n 'trumpet section',\n 'tuba',\n 'vibraphone',\n 'viola',\n 'viola section',\n 'violin',\n 'violin section',\n 'vocalists',\n 'yangqin',\n 'zhongruan'}"
     },
     "metadata": {},
     "execution_count": 12
    }
   ],
   "source": [
    "instruments_list"
   ]
  },
  {
   "cell_type": "markdown",
   "metadata": {},
   "source": [
    "## Création d'un dictionnaire pour renommer les STEMS lors du pre-processing"
   ]
  },
  {
   "cell_type": "code",
   "execution_count": 13,
   "metadata": {},
   "outputs": [
    {
     "output_type": "execute_result",
     "data": {
      "text/plain": "{'harp': 'harp',\n 'double bass': 'double_bass',\n 'bass clarinet': 'bass_clarinet',\n 'french horn section': 'french_horn_section',\n 'dizi': 'dizi',\n 'zhongruan': 'zhongruan',\n 'electric bass': 'electric_bass',\n 'tack piano': 'tack_piano',\n 'doumbek': 'doumbek',\n 'vibraphone': 'vibraphone',\n 'male rapper': 'male_rapper',\n 'female singer': 'female_singer',\n 'piano': 'piano',\n 'trumpet section': 'trumpet_section',\n 'trombone': 'trombone',\n 'yangqin': 'yangqin',\n 'liuqin': 'liuqin',\n 'erhu': 'erhu',\n 'toms': 'toms',\n 'bassoon': 'bassoon',\n 'flute section': 'flute_section',\n 'oud': 'oud',\n 'male speaker': 'male_speaker',\n 'darbuka': 'darbuka',\n 'bamboo flute': 'bamboo_flute',\n 'tabla': 'tabla',\n 'harmonica': 'harmonica',\n 'brass section': 'brass_section',\n 'guzheng': 'guzheng',\n 'lap steel guitar': 'lap_steel_guitar',\n 'auxiliary percussion': 'auxiliary_percussion',\n 'alto saxophone': 'alto_saxophone',\n 'accordion': 'accordion',\n 'acoustic guitar': 'acoustic_guitar',\n 'cymbal': 'cymbal',\n 'bass drum': 'bass_drum',\n 'clarinet': 'clarinet',\n 'violin': 'violin',\n 'clarinet section': 'clarinet_section',\n 'sampler': 'sampler',\n 'timpani': 'timpani',\n 'string section': 'string_section',\n 'cello section': 'cello_section',\n 'viola': 'viola',\n 'gong': 'gong',\n 'scratches': 'scratches',\n 'snare drum': 'snare_drum',\n 'electric piano': 'electric_piano',\n 'viola section': 'viola_section',\n 'clean electric guitar': 'clean_electric_guitar',\n 'drum machine': 'drum_machine',\n 'tenor saxophone': 'tenor_saxophone',\n 'distorted electric guitar': 'distorted_electric_guitar',\n 'violin section': 'violin_section',\n 'vocalists': 'vocalists',\n 'horn section': 'horn_section',\n 'chimes': 'chimes',\n 'tambourine': 'tambourine',\n 'banjo': 'banjo',\n 'glockenspiel': 'glockenspiel',\n 'Main System': 'Main_System',\n 'male singer': 'male_singer',\n 'french horn': 'french_horn',\n 'synthesizer': 'synthesizer',\n 'soprano saxophone': 'soprano_saxophone',\n 'shaker': 'shaker',\n 'piccolo': 'piccolo',\n 'trumpet': 'trumpet',\n 'oboe': 'oboe',\n 'tuba': 'tuba',\n 'mandolin': 'mandolin',\n 'fx/processed sound': 'fx/processed_sound',\n 'melodica': 'melodica',\n 'baritone saxophone': 'baritone_saxophone',\n 'claps': 'claps',\n 'flute': 'flute',\n 'bongo': 'bongo',\n 'drum set': 'drum_set',\n 'cello': 'cello',\n 'trombone section': 'trombone_section',\n 'kick drum': 'kick_drum',\n 'gu': 'gu'}"
     },
     "metadata": {},
     "execution_count": 13
    }
   ],
   "source": [
    "instruments_dict = {i: i.replace(' ', '_') for i in instruments_list}\n",
    "instruments_dict"
   ]
  },
  {
   "cell_type": "markdown",
   "metadata": {},
   "source": [
    "### Filtre du dataset sur les TRACKS contenant des STEMS clean electric guitar"
   ]
  },
  {
   "cell_type": "code",
   "execution_count": 14,
   "metadata": {
    "tags": []
   },
   "outputs": [
    {
     "output_type": "execute_result",
     "data": {
      "text/plain": "['AClassicEducation_NightOwl_STEM_05.wav',\n 'AimeeNorwich_Child_STEM_03.wav',\n 'AimeeNorwich_Flying_STEM_04.wav',\n 'AimeeNorwich_Flying_STEM_05.wav',\n 'AlexanderRoss_GoodbyeBolero_STEM_02.wav',\n 'AlexanderRoss_GoodbyeBolero_STEM_03.wav',\n 'AlexanderRoss_VelvetCurtain_STEM_02.wav',\n 'AlexanderRoss_VelvetCurtain_STEM_03.wav',\n 'AlexanderRoss_VelvetCurtain_STEM_10.wav',\n 'AmarLal_Rest_STEM_01.wav',\n 'Auctioneer_OurFutureFaces_STEM_05.wav',\n 'CelestialShore_DieForUs_STEM_05.wav',\n 'CelestialShore_DieForUs_STEM_08.wav',\n 'ChrisJacoby_BoothShotLincoln_STEM_03.wav',\n 'ClaraBerryAndWooldog_AirTraffic_STEM_04.wav',\n 'CroqueMadame_Oil_STEM_02.wav',\n 'CroqueMadame_Pilot_STEM_02.wav',\n 'FacesOnFilm_WaitingForGa_STEM_05.wav',\n 'FamilyBand_Again_STEM_05.wav',\n 'InvisibleFamiliars_DisturbingWildlife_STEM_05.wav',\n 'LizNelson_Rainfall_STEM_05.wav',\n 'Lushlife_ToynbeeSuite_STEM_10.wav',\n 'Lushlife_ToynbeeSuite_STEM_11.wav',\n 'Lushlife_ToynbeeSuite_STEM_12.wav',\n 'Meaxic_TakeAStep_STEM_02.wav',\n 'Meaxic_YouListen_STEM_05.wav',\n 'MusicDelta_Beatles_STEM_03.wav',\n 'MusicDelta_Beatles_STEM_04.wav',\n 'MusicDelta_Beatles_STEM_06.wav',\n 'MusicDelta_Britpop_STEM_04.wav',\n 'MusicDelta_Britpop_STEM_05.wav',\n 'MusicDelta_Britpop_STEM_06.wav',\n 'MusicDelta_Country2_STEM_03.wav',\n 'MusicDelta_Country2_STEM_04.wav',\n 'MusicDelta_Disco_STEM_03.wav',\n 'MusicDelta_Gospel_STEM_03.wav',\n 'MusicDelta_Gospel_STEM_04.wav',\n 'MusicDelta_Reggae_STEM_03.wav',\n 'MusicDelta_Rockabilly_STEM_04.wav',\n 'MusicDelta_Rock_STEM_03.wav',\n 'MusicDelta_Rock_STEM_04.wav',\n 'MusicDelta_Shadows_STEM_03.wav',\n 'MusicDelta_Shadows_STEM_04.wav',\n 'PortStWillow_StayEven_STEM_05.wav',\n 'PortStWillow_StayEven_STEM_06.wav',\n 'PortStWillow_StayEven_STEM_07.wav',\n 'SecretMountains_HighHorse_STEM_05.wav',\n 'Snowmine_Curfews_STEM_07.wav',\n 'Snowmine_Curfews_STEM_08.wav',\n 'StevenClark_Bounty_STEM_01.wav',\n 'TablaBreakbeatScience_MoodyPlucks_STEM_09.wav',\n 'TablaBreakbeatScience_Vger_STEM_06.wav',\n 'TheDistricts_Vermont_STEM_06.wav',\n 'TheDistricts_Vermont_STEM_07.wav',\n 'TheScarletBrand_LesFleursDuMal_STEM_03.wav',\n 'TheScarletBrand_LesFleursDuMal_STEM_07.wav']"
     },
     "metadata": {},
     "execution_count": 14
    }
   ],
   "source": [
    "clean_el_guitar_stems = []\n",
    "for stems in metadata_df[\"stems\"]:\n",
    "    stems = eval(stems)\n",
    "    for s in stems.values():\n",
    "        if s[\"instrument\"] == \"clean electric guitar\":\n",
    "            clean_el_guitar_stems.append(s[\"filename\"])\n",
    "clean_el_guitar_stems"
   ]
  },
  {
   "cell_type": "markdown",
   "metadata": {},
   "source": [
    "### Création de la liste des TRACKS contenant clean electric guitar"
   ]
  },
  {
   "cell_type": "code",
   "execution_count": 15,
   "metadata": {},
   "outputs": [
    {
     "output_type": "execute_result",
     "data": {
      "text/plain": "{'AClassicEducation_NightOwl',\n 'AimeeNorwich_Child',\n 'AimeeNorwich_Flying',\n 'AlexanderRoss_GoodbyeBolero',\n 'AlexanderRoss_VelvetCurtain',\n 'AmarLal_Rest',\n 'Auctioneer_OurFutureFaces',\n 'CelestialShore_DieForUs',\n 'ChrisJacoby_BoothShotLincoln',\n 'ClaraBerryAndWooldog_AirTraffic',\n 'CroqueMadame_Oil',\n 'CroqueMadame_Pilot',\n 'FacesOnFilm_WaitingForGa',\n 'FamilyBand_Again',\n 'InvisibleFamiliars_DisturbingWildlife',\n 'LizNelson_Rainfall',\n 'Lushlife_ToynbeeSuite',\n 'Meaxic_TakeAStep',\n 'Meaxic_YouListen',\n 'MusicDelta_Beatles',\n 'MusicDelta_Britpop',\n 'MusicDelta_Country2',\n 'MusicDelta_Disco',\n 'MusicDelta_Gospel',\n 'MusicDelta_Reggae',\n 'MusicDelta_Rock',\n 'MusicDelta_Rockabilly',\n 'MusicDelta_Shadows',\n 'PortStWillow_StayEven',\n 'SecretMountains_HighHorse',\n 'Snowmine_Curfews',\n 'StevenClark_Bounty',\n 'TablaBreakbeatScience_MoodyPlucks',\n 'TablaBreakbeatScience_Vger',\n 'TheDistricts_Vermont',\n 'TheScarletBrand_LesFleursDuMal'}"
     },
     "metadata": {},
     "execution_count": 15
    }
   ],
   "source": [
    "clean_el_guitar_tracks = set([s.split(\"_STEM\")[0] for s in clean_el_guitar_stems])\n",
    "clean_el_guitar_tracks"
   ]
  },
  {
   "cell_type": "markdown",
   "metadata": {},
   "source": [
    "## on fusionne les STEMS clean electric guitar d'une même TRACK"
   ]
  },
  {
   "cell_type": "code",
   "execution_count": null,
   "metadata": {},
   "outputs": [],
   "source": []
  },
  {
   "cell_type": "code",
   "execution_count": null,
   "metadata": {},
   "outputs": [],
   "source": []
  },
  {
   "cell_type": "code",
   "execution_count": null,
   "metadata": {},
   "outputs": [],
   "source": []
  },
  {
   "cell_type": "code",
   "execution_count": null,
   "metadata": {},
   "outputs": [],
   "source": []
  },
  {
   "cell_type": "code",
   "execution_count": null,
   "metadata": {},
   "outputs": [],
   "source": [
    "from collections import Counter"
   ]
  },
  {
   "cell_type": "code",
   "execution_count": null,
   "metadata": {
    "tags": []
   },
   "outputs": [],
   "source": [
    "dico = {}\n",
    "lstf = []\n",
    "\n",
    "for i in range(0,len(instru['stems']),1) : \n",
    "\n",
    "    s = eval(instru.iloc[i].stems)\n",
    "\n",
    "    for c in s:\n",
    "\n",
    "        piste = (s[c][\"filename\"])\n",
    "        inst = (s[c][\"instrument\"])\n",
    "        dico[piste] = inst\n",
    "        lstf.append(inst)\n"
   ]
  },
  {
   "cell_type": "code",
   "execution_count": null,
   "metadata": {},
   "outputs": [],
   "source": []
  },
  {
   "cell_type": "code",
   "execution_count": null,
   "metadata": {
    "tags": []
   },
   "outputs": [],
   "source": [
    "lstp = []\n",
    "\n",
    "for key, values in dico.items() :\n",
    "\n",
    "    lstp.append(key)\n",
    "\n",
    "    if key[:20] == \n",
    "\n",
    "        \n",
    "\n"
   ]
  },
  {
   "cell_type": "code",
   "execution_count": 24,
   "metadata": {},
   "outputs": [
    {
     "output_type": "execute_result",
     "data": {
      "text/plain": "Counter({'drum set': 18,\n         'fx/processed sound': 27,\n         'electric bass': 17,\n         'clean electric guitar': 10,\n         'piano': 18,\n         'cello': 13,\n         'trombone': 4,\n         'clarinet': 8,\n         'acoustic guitar': 11,\n         'drum machine': 12,\n         'mandolin': 9,\n         'tabla': 16,\n         'kick drum': 1,\n         'double bass': 16,\n         'auxiliary percussion': 6,\n         'synthesizer': 16,\n         'string section': 3,\n         'distorted electric guitar': 6,\n         'harmonica': 1,\n         'violin': 27,\n         'viola': 8,\n         'chimes': 1,\n         'snare drum': 1,\n         'flute': 12,\n         'french horn': 6,\n         'bassoon': 6,\n         'horn section': 2,\n         'trumpet': 8,\n         'tack piano': 3,\n         'violin section': 15,\n         'Main System': 6,\n         'claps': 1,\n         'darbuka': 1,\n         'doumbek': 1,\n         'oud': 2,\n         'bongo': 1,\n         'vocalists': 1,\n         'glockenspiel': 1,\n         'harp': 3,\n         'french horn section': 3,\n         'oboe': 5,\n         'bass drum': 1,\n         'cello section': 5,\n         'clarinet section': 3,\n         'cymbal': 4,\n         'gong': 2,\n         'flute section': 2,\n         'bamboo flute': 1,\n         'piccolo': 4,\n         'trombone section': 1,\n         'trumpet section': 3,\n         'viola section': 3,\n         'tenor saxophone': 2,\n         'timpani': 4,\n         'dizi': 5,\n         'erhu': 6,\n         'guzheng': 5,\n         'yangqin': 6,\n         'zhongruan': 3,\n         'liuqin': 2,\n         'gu': 1,\n         'baritone saxophone': 1,\n         'bass clarinet': 1,\n         'electric piano': 3,\n         'alto saxophone': 1,\n         'soprano saxophone': 1,\n         'brass section': 3,\n         'tuba': 2,\n         'toms': 1,\n         'accordion': 5})"
     },
     "metadata": {},
     "execution_count": 24
    }
   ],
   "source": [
    "Counter(lstf)"
   ]
  },
  {
   "cell_type": "code",
   "execution_count": null,
   "metadata": {},
   "outputs": [],
   "source": []
  },
  {
   "cell_type": "code",
   "execution_count": null,
   "metadata": {},
   "outputs": [],
   "source": [
    "def contains_guitar(f):\n",
    "    f = eval(f)\n",
    "    return \"clean electric guitar\" in [f[c][\"instrument\"] for c in f]"
   ]
  },
  {
   "cell_type": "code",
   "execution_count": null,
   "metadata": {},
   "outputs": [],
   "source": [
    "instru.loc[:, \"guitar\"] = instru.loc[:, \"stems\"]"
   ]
  },
  {
   "cell_type": "code",
   "execution_count": null,
   "metadata": {},
   "outputs": [],
   "source": [
    "instru.loc[:, \"guitar\"] = instru[\"guitar\"].map(contains_guitar)"
   ]
  },
  {
   "cell_type": "code",
   "execution_count": null,
   "metadata": {},
   "outputs": [],
   "source": [
    "instru[instru[\"guitar\"] == 1]"
   ]
  },
  {
   "cell_type": "code",
   "execution_count": null,
   "metadata": {},
   "outputs": [],
   "source": []
  },
  {
   "cell_type": "code",
   "execution_count": null,
   "metadata": {},
   "outputs": [],
   "source": []
  }
 ],
 "metadata": {
  "kernelspec": {
   "display_name": "Python 3.8.5 64-bit",
   "language": "python",
   "name": "python_defaultSpec_1597739756712"
  },
  "language_info": {
   "codemirror_mode": {
    "name": "ipython",
    "version": 3
   },
   "file_extension": ".py",
   "mimetype": "text/x-python",
   "name": "python",
   "nbconvert_exporter": "python",
   "pygments_lexer": "ipython3",
   "version": "3.7.8-final"
  }
 },
 "nbformat": 4,
 "nbformat_minor": 4
}