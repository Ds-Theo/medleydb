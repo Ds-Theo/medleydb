{
 "cells": [
  {
   "cell_type": "code",
   "execution_count": 1,
   "metadata": {},
   "outputs": [],
   "source": [
    "from pathlib import Path\n",
    "import yaml\n",
    "import pandas as pd"
   ]
  },
  {
   "cell_type": "code",
   "execution_count": 3,
   "metadata": {
    "tags": []
   },
   "outputs": [
    {
     "output_type": "stream",
     "name": "stdout",
     "text": "wd: d:\\Théo\\GitHub\\medleydb, metadata: d:\\Théo\\GitHub\\medleydb\\medleydb\\data\\Metadata, audio: D:\\Théo\\MedleyDB\\V1\n"
    }
   ],
   "source": [
    "wd_path = Path.cwd()\n",
    "metadata_path = wd_path.joinpath(\"medleydb/data/Metadata\")\n",
    "\n",
    "audio_path = Path(\"D:\\Théo\\MedleyDB\\V1\")\n",
    "\n",
    "print(\"wd: {}, metadata: {}, audio: {}\".format(wd_path, metadata_path, audio_path))"
   ]
  },
  {
   "cell_type": "code",
   "execution_count": 4,
   "metadata": {},
   "outputs": [],
   "source": [
    "audio_files = [a.name for a in audio_path.iterdir() if a.is_dir()]"
   ]
  },
  {
   "cell_type": "markdown",
   "metadata": {},
   "source": [
    "### Liste des fichiers audio de la V1"
   ]
  },
  {
   "cell_type": "code",
   "execution_count": 5,
   "metadata": {},
   "outputs": [
    {
     "output_type": "execute_result",
     "data": {
      "text/plain": "['AClassicEducation_NightOwl',\n 'AimeeNorwich_Child',\n 'AimeeNorwich_Flying',\n 'AlexanderRoss_GoodbyeBolero',\n 'AlexanderRoss_VelvetCurtain']"
     },
     "metadata": {},
     "execution_count": 5
    }
   ],
   "source": [
    "audio_files[:5]"
   ]
  },
  {
   "cell_type": "markdown",
   "metadata": {},
   "source": [
    "### Parcours des metadata"
   ]
  },
  {
   "cell_type": "code",
   "execution_count": 6,
   "metadata": {},
   "outputs": [
    {
     "output_type": "execute_result",
     "data": {
      "text/plain": "[WindowsPath('d:/Théo/GitHub/medleydb/medleydb/data/Metadata/AcDc_BackInBlack_METADATA.yaml'),\n WindowsPath('d:/Théo/GitHub/medleydb/medleydb/data/Metadata/AClassicEducation_NightOwl_METADATA.yaml'),\n WindowsPath('d:/Théo/GitHub/medleydb/medleydb/data/Metadata/Adele_SomeoneLikeYou_METADATA.yaml'),\n WindowsPath('d:/Théo/GitHub/medleydb/medleydb/data/Metadata/Aerosmith_LoveInAnElevator_METADATA.yaml'),\n WindowsPath('d:/Théo/GitHub/medleydb/medleydb/data/Metadata/AHa_TakeOnMe_METADATA.yaml')]"
     },
     "metadata": {},
     "execution_count": 6
    }
   ],
   "source": [
    "metadata_files = [m for m in metadata_path.glob('*.yaml')]\n",
    "metadata_files[:5]"
   ]
  },
  {
   "cell_type": "code",
   "execution_count": 7,
   "metadata": {},
   "outputs": [
    {
     "output_type": "execute_result",
     "data": {
      "text/plain": "['AcDc_BackInBlack',\n 'AClassicEducation_NightOwl',\n 'Adele_SomeoneLikeYou',\n 'Aerosmith_LoveInAnElevator',\n 'AHa_TakeOnMe']"
     },
     "metadata": {},
     "execution_count": 7
    }
   ],
   "source": [
    "metadata_filenames = [m.name.split(\"_METADATA\")[0] for m in metadata_files]\n",
    "metadata_filenames[:5]"
   ]
  },
  {
   "cell_type": "code",
   "execution_count": 8,
   "metadata": {},
   "outputs": [],
   "source": [
    "match = [m for m in metadata_files if m.name.split(\"_METADATA\")[0] in audio_files]"
   ]
  },
  {
   "cell_type": "code",
   "execution_count": 9,
   "metadata": {},
   "outputs": [
    {
     "output_type": "execute_result",
     "data": {
      "text/plain": "122"
     },
     "metadata": {},
     "execution_count": 9
    }
   ],
   "source": [
    "len(match)"
   ]
  },
  {
   "cell_type": "markdown",
   "metadata": {},
   "source": [
    "### Création d'un dataframe à partir des fichiers metadata"
   ]
  },
  {
   "cell_type": "code",
   "execution_count": 10,
   "metadata": {},
   "outputs": [],
   "source": [
    "metadata_df = pd.read_csv(metadata_path.joinpath(\"metadata.csv\"), index_col=0)"
   ]
  },
  {
   "cell_type": "raw",
   "metadata": {},
   "source": [
    "metadata_df = pd.DataFrame()"
   ]
  },
  {
   "cell_type": "raw",
   "metadata": {},
   "source": [
    "for f in match:\n",
    "    with open(f, 'r') as stream:\n",
    "        m = pd.json_normalize(yaml.load(stream, Loader=yaml.FullLoader), max_level=0)\n",
    "    metadata_df = metadata_df.append(m, ignore_index=True)"
   ]
  },
  {
   "cell_type": "raw",
   "metadata": {},
   "source": [
    "metadata_df.to_csv(metadata_path.joinpath(\"metadata.csv\"))"
   ]
  },
  {
   "cell_type": "code",
   "execution_count": 11,
   "metadata": {},
   "outputs": [
    {
     "output_type": "execute_result",
     "data": {
      "text/plain": "                      album               artist                 composer  \\\n0  Shaking Through Volume 2  A Classic Education  ['A Classic Education']   \n1                       NaN        Aimee Norwich        ['Aimee Norwich']   \n2                       NaN        Aimee Norwich        ['Aimee Norwich']   \n3                       NaN       Alexander Ross       ['Alexander Ross']   \n4                       NaN       Alexander Ross       ['Alexander Ross']   \n\n  excerpt              genre has_bleed instrumental  \\\n0      no  Singer/Songwriter        no           no   \n1      no  Singer/Songwriter        no           no   \n2      no         World/Folk        no          yes   \n3      no  Singer/Songwriter        no           no   \n4      no  Singer/Songwriter        no           no   \n\n                          mix_filename              origin  \\\n0   AClassicEducation_NightOwl_MIX.wav   Weathervane Music   \n1           AimeeNorwich_Child_MIX.wav  Independent Artist   \n2          AimeeNorwich_Flying_MIX.wav  Independent Artist   \n3  AlexanderRoss_GoodbyeBolero_MIX.wav  Independent Artist   \n4  AlexanderRoss_VelvetCurtain_MIX.wav  Independent Artist   \n\n                           producer                          raw_dir  \\\n0                 ['Andy Williams']   AClassicEducation_NightOwl_RAW   \n1  ['Aimee Norwich & Senem Pirler']           AimeeNorwich_Child_RAW   \n2  ['Aimee Norwich & Senem Pirler']          AimeeNorwich_Flying_RAW   \n3                  ['Mike Tierney']  AlexanderRoss_GoodbyeBolero_RAW   \n4                  ['Mike Tierney']  AlexanderRoss_VelvetCurtain_RAW   \n\n                            stem_dir  \\\n0   AClassicEducation_NightOwl_STEMS   \n1           AimeeNorwich_Child_STEMS   \n2          AimeeNorwich_Flying_STEMS   \n3  AlexanderRoss_GoodbyeBolero_STEMS   \n4  AlexanderRoss_VelvetCurtain_STEMS   \n\n                                               stems           title  version  \\\n0  {'S01': {'component': 'bass', 'filename': 'ACl...       Night Owl      1.2   \n1  {'S01': {'component': '', 'filename': 'AimeeNo...           Child      1.2   \n2  {'S01': {'component': '', 'filename': 'AimeeNo...          Flying      1.2   \n3  {'S01': {'component': '', 'filename': 'Alexand...  Goodbye Bolero      1.2   \n4  {'S01': {'component': 'melody', 'filename': 'A...  Velvet Curtain      1.2   \n\n                                        website  \n0  ['www.shakingthrough.com/aclassiceducation']  \n1                      ['www.aimeenorwich.com']  \n2                      ['www.aimeenorwich.com']  \n3                                            []  \n4                                            []  ",
      "text/html": "<div>\n<style scoped>\n    .dataframe tbody tr th:only-of-type {\n        vertical-align: middle;\n    }\n\n    .dataframe tbody tr th {\n        vertical-align: top;\n    }\n\n    .dataframe thead th {\n        text-align: right;\n    }\n</style>\n<table border=\"1\" class=\"dataframe\">\n  <thead>\n    <tr style=\"text-align: right;\">\n      <th></th>\n      <th>album</th>\n      <th>artist</th>\n      <th>composer</th>\n      <th>excerpt</th>\n      <th>genre</th>\n      <th>has_bleed</th>\n      <th>instrumental</th>\n      <th>mix_filename</th>\n      <th>origin</th>\n      <th>producer</th>\n      <th>raw_dir</th>\n      <th>stem_dir</th>\n      <th>stems</th>\n      <th>title</th>\n      <th>version</th>\n      <th>website</th>\n    </tr>\n  </thead>\n  <tbody>\n    <tr>\n      <th>0</th>\n      <td>Shaking Through Volume 2</td>\n      <td>A Classic Education</td>\n      <td>['A Classic Education']</td>\n      <td>no</td>\n      <td>Singer/Songwriter</td>\n      <td>no</td>\n      <td>no</td>\n      <td>AClassicEducation_NightOwl_MIX.wav</td>\n      <td>Weathervane Music</td>\n      <td>['Andy Williams']</td>\n      <td>AClassicEducation_NightOwl_RAW</td>\n      <td>AClassicEducation_NightOwl_STEMS</td>\n      <td>{'S01': {'component': 'bass', 'filename': 'ACl...</td>\n      <td>Night Owl</td>\n      <td>1.2</td>\n      <td>['www.shakingthrough.com/aclassiceducation']</td>\n    </tr>\n    <tr>\n      <th>1</th>\n      <td>NaN</td>\n      <td>Aimee Norwich</td>\n      <td>['Aimee Norwich']</td>\n      <td>no</td>\n      <td>Singer/Songwriter</td>\n      <td>no</td>\n      <td>no</td>\n      <td>AimeeNorwich_Child_MIX.wav</td>\n      <td>Independent Artist</td>\n      <td>['Aimee Norwich &amp; Senem Pirler']</td>\n      <td>AimeeNorwich_Child_RAW</td>\n      <td>AimeeNorwich_Child_STEMS</td>\n      <td>{'S01': {'component': '', 'filename': 'AimeeNo...</td>\n      <td>Child</td>\n      <td>1.2</td>\n      <td>['www.aimeenorwich.com']</td>\n    </tr>\n    <tr>\n      <th>2</th>\n      <td>NaN</td>\n      <td>Aimee Norwich</td>\n      <td>['Aimee Norwich']</td>\n      <td>no</td>\n      <td>World/Folk</td>\n      <td>no</td>\n      <td>yes</td>\n      <td>AimeeNorwich_Flying_MIX.wav</td>\n      <td>Independent Artist</td>\n      <td>['Aimee Norwich &amp; Senem Pirler']</td>\n      <td>AimeeNorwich_Flying_RAW</td>\n      <td>AimeeNorwich_Flying_STEMS</td>\n      <td>{'S01': {'component': '', 'filename': 'AimeeNo...</td>\n      <td>Flying</td>\n      <td>1.2</td>\n      <td>['www.aimeenorwich.com']</td>\n    </tr>\n    <tr>\n      <th>3</th>\n      <td>NaN</td>\n      <td>Alexander Ross</td>\n      <td>['Alexander Ross']</td>\n      <td>no</td>\n      <td>Singer/Songwriter</td>\n      <td>no</td>\n      <td>no</td>\n      <td>AlexanderRoss_GoodbyeBolero_MIX.wav</td>\n      <td>Independent Artist</td>\n      <td>['Mike Tierney']</td>\n      <td>AlexanderRoss_GoodbyeBolero_RAW</td>\n      <td>AlexanderRoss_GoodbyeBolero_STEMS</td>\n      <td>{'S01': {'component': '', 'filename': 'Alexand...</td>\n      <td>Goodbye Bolero</td>\n      <td>1.2</td>\n      <td>[]</td>\n    </tr>\n    <tr>\n      <th>4</th>\n      <td>NaN</td>\n      <td>Alexander Ross</td>\n      <td>['Alexander Ross']</td>\n      <td>no</td>\n      <td>Singer/Songwriter</td>\n      <td>no</td>\n      <td>no</td>\n      <td>AlexanderRoss_VelvetCurtain_MIX.wav</td>\n      <td>Independent Artist</td>\n      <td>['Mike Tierney']</td>\n      <td>AlexanderRoss_VelvetCurtain_RAW</td>\n      <td>AlexanderRoss_VelvetCurtain_STEMS</td>\n      <td>{'S01': {'component': 'melody', 'filename': 'A...</td>\n      <td>Velvet Curtain</td>\n      <td>1.2</td>\n      <td>[]</td>\n    </tr>\n  </tbody>\n</table>\n</div>"
     },
     "metadata": {},
     "execution_count": 11
    }
   ],
   "source": [
    "metadata_df.head()"
   ]
  },
  {
   "cell_type": "markdown",
   "metadata": {},
   "source": [
    "## Liste exhaustive des instruments"
   ]
  },
  {
   "cell_type": "code",
   "execution_count": 12,
   "metadata": {
    "tags": []
   },
   "outputs": [],
   "source": [
    "# on parcours tous les stems et on ajoute les instruments à la liste\n",
    "instruments_list = []\n",
    "for stems in metadata_df[\"stems\"]:\n",
    "    stems = eval(stems)\n",
    "    for s in stems.values():\n",
    "        instruments_list.append(s[\"instrument\"])\n",
    "instruments_list = set(instruments_list)"
   ]
  },
  {
   "cell_type": "code",
   "execution_count": 13,
   "metadata": {},
   "outputs": [
    {
     "output_type": "execute_result",
     "data": {
      "text/plain": "{'Main System',\n 'accordion',\n 'acoustic guitar',\n 'alto saxophone',\n 'auxiliary percussion',\n 'bamboo flute',\n 'banjo',\n 'baritone saxophone',\n 'bass clarinet',\n 'bass drum',\n 'bassoon',\n 'bongo',\n 'brass section',\n 'cello',\n 'cello section',\n 'chimes',\n 'claps',\n 'clarinet',\n 'clarinet section',\n 'clean electric guitar',\n 'cymbal',\n 'darbuka',\n 'distorted electric guitar',\n 'dizi',\n 'double bass',\n 'doumbek',\n 'drum machine',\n 'drum set',\n 'electric bass',\n 'electric piano',\n 'erhu',\n 'female singer',\n 'flute',\n 'flute section',\n 'french horn',\n 'french horn section',\n 'fx/processed sound',\n 'glockenspiel',\n 'gong',\n 'gu',\n 'guzheng',\n 'harmonica',\n 'harp',\n 'horn section',\n 'kick drum',\n 'lap steel guitar',\n 'liuqin',\n 'male rapper',\n 'male singer',\n 'male speaker',\n 'mandolin',\n 'melodica',\n 'oboe',\n 'oud',\n 'piano',\n 'piccolo',\n 'sampler',\n 'scratches',\n 'shaker',\n 'snare drum',\n 'soprano saxophone',\n 'string section',\n 'synthesizer',\n 'tabla',\n 'tack piano',\n 'tambourine',\n 'tenor saxophone',\n 'timpani',\n 'toms',\n 'trombone',\n 'trombone section',\n 'trumpet',\n 'trumpet section',\n 'tuba',\n 'vibraphone',\n 'viola',\n 'viola section',\n 'violin',\n 'violin section',\n 'vocalists',\n 'yangqin',\n 'zhongruan'}"
     },
     "metadata": {},
     "execution_count": 13
    }
   ],
   "source": [
    "instruments_list"
   ]
  },
  {
   "cell_type": "markdown",
   "metadata": {},
   "source": [
    "## Création d'un dictionnaire pour renommer les STEMS lors du pre-processing"
   ]
  },
  {
   "cell_type": "code",
   "execution_count": 14,
   "metadata": {},
   "outputs": [
    {
     "output_type": "execute_result",
     "data": {
      "text/plain": "{'violin section': 'violin_section',\n 'tuba': 'tuba',\n 'lap steel guitar': 'lap_steel_guitar',\n 'tack piano': 'tack_piano',\n 'toms': 'toms',\n 'clarinet': 'clarinet',\n 'flute section': 'flute_section',\n 'harmonica': 'harmonica',\n 'electric piano': 'electric_piano',\n 'tambourine': 'tambourine',\n 'zhongruan': 'zhongruan',\n 'viola': 'viola',\n 'viola section': 'viola_section',\n 'darbuka': 'darbuka',\n 'bongo': 'bongo',\n 'bassoon': 'bassoon',\n 'trumpet section': 'trumpet_section',\n 'shaker': 'shaker',\n 'horn section': 'horn_section',\n 'acoustic guitar': 'acoustic_guitar',\n 'oboe': 'oboe',\n 'baritone saxophone': 'baritone_saxophone',\n 'tabla': 'tabla',\n 'melodica': 'melodica',\n 'timpani': 'timpani',\n 'string section': 'string_section',\n 'trumpet': 'trumpet',\n 'gu': 'gu',\n 'claps': 'claps',\n 'oud': 'oud',\n 'mandolin': 'mandolin',\n 'bamboo flute': 'bamboo_flute',\n 'accordion': 'accordion',\n 'banjo': 'banjo',\n 'auxiliary percussion': 'auxiliary_percussion',\n 'alto saxophone': 'alto_saxophone',\n 'trombone section': 'trombone_section',\n 'doumbek': 'doumbek',\n 'vocalists': 'vocalists',\n 'liuqin': 'liuqin',\n 'violin': 'violin',\n 'dizi': 'dizi',\n 'scratches': 'scratches',\n 'yangqin': 'yangqin',\n 'french horn section': 'french_horn_section',\n 'electric bass': 'electric_bass',\n 'drum machine': 'drum_machine',\n 'fx/processed sound': 'fx/processed_sound',\n 'double bass': 'double_bass',\n 'chimes': 'chimes',\n 'male speaker': 'male_speaker',\n 'piccolo': 'piccolo',\n 'clean electric guitar': 'clean_electric_guitar',\n 'female singer': 'female_singer',\n 'french horn': 'french_horn',\n 'tenor saxophone': 'tenor_saxophone',\n 'trombone': 'trombone',\n 'guzheng': 'guzheng',\n 'Main System': 'Main_System',\n 'flute': 'flute',\n 'drum set': 'drum_set',\n 'cello': 'cello',\n 'harp': 'harp',\n 'brass section': 'brass_section',\n 'piano': 'piano',\n 'sampler': 'sampler',\n 'distorted electric guitar': 'distorted_electric_guitar',\n 'bass clarinet': 'bass_clarinet',\n 'male rapper': 'male_rapper',\n 'synthesizer': 'synthesizer',\n 'kick drum': 'kick_drum',\n 'glockenspiel': 'glockenspiel',\n 'vibraphone': 'vibraphone',\n 'cymbal': 'cymbal',\n 'bass drum': 'bass_drum',\n 'male singer': 'male_singer',\n 'soprano saxophone': 'soprano_saxophone',\n 'gong': 'gong',\n 'erhu': 'erhu',\n 'clarinet section': 'clarinet_section',\n 'snare drum': 'snare_drum',\n 'cello section': 'cello_section'}"
     },
     "metadata": {},
     "execution_count": 14
    }
   ],
   "source": [
    "instruments_dict = {i: i.replace(' ', '_') for i in instruments_list}\n",
    "instruments_dict"
   ]
  },
  {
   "cell_type": "markdown",
   "metadata": {},
   "source": [
    "### Filtre du dataset sur les TRACKS contenant des STEMS clean electric guitar"
   ]
  },
  {
   "cell_type": "code",
   "execution_count": 15,
   "metadata": {
    "tags": []
   },
   "outputs": [
    {
     "output_type": "execute_result",
     "data": {
      "text/plain": "['AClassicEducation_NightOwl_STEM_05.wav',\n 'AimeeNorwich_Child_STEM_03.wav',\n 'AimeeNorwich_Flying_STEM_04.wav',\n 'AimeeNorwich_Flying_STEM_05.wav',\n 'AlexanderRoss_GoodbyeBolero_STEM_02.wav',\n 'AlexanderRoss_GoodbyeBolero_STEM_03.wav',\n 'AlexanderRoss_VelvetCurtain_STEM_02.wav',\n 'AlexanderRoss_VelvetCurtain_STEM_03.wav',\n 'AlexanderRoss_VelvetCurtain_STEM_10.wav',\n 'AmarLal_Rest_STEM_01.wav',\n 'Auctioneer_OurFutureFaces_STEM_05.wav',\n 'CelestialShore_DieForUs_STEM_05.wav',\n 'CelestialShore_DieForUs_STEM_08.wav',\n 'ChrisJacoby_BoothShotLincoln_STEM_03.wav',\n 'ClaraBerryAndWooldog_AirTraffic_STEM_04.wav',\n 'CroqueMadame_Oil_STEM_02.wav',\n 'CroqueMadame_Pilot_STEM_02.wav',\n 'FacesOnFilm_WaitingForGa_STEM_05.wav',\n 'FamilyBand_Again_STEM_05.wav',\n 'InvisibleFamiliars_DisturbingWildlife_STEM_05.wav',\n 'LizNelson_Rainfall_STEM_05.wav',\n 'Lushlife_ToynbeeSuite_STEM_10.wav',\n 'Lushlife_ToynbeeSuite_STEM_11.wav',\n 'Lushlife_ToynbeeSuite_STEM_12.wav',\n 'Meaxic_TakeAStep_STEM_02.wav',\n 'Meaxic_YouListen_STEM_05.wav',\n 'MusicDelta_Beatles_STEM_03.wav',\n 'MusicDelta_Beatles_STEM_04.wav',\n 'MusicDelta_Beatles_STEM_06.wav',\n 'MusicDelta_Britpop_STEM_04.wav',\n 'MusicDelta_Britpop_STEM_05.wav',\n 'MusicDelta_Britpop_STEM_06.wav',\n 'MusicDelta_Country2_STEM_03.wav',\n 'MusicDelta_Country2_STEM_04.wav',\n 'MusicDelta_Disco_STEM_03.wav',\n 'MusicDelta_Gospel_STEM_03.wav',\n 'MusicDelta_Gospel_STEM_04.wav',\n 'MusicDelta_Reggae_STEM_03.wav',\n 'MusicDelta_Rockabilly_STEM_04.wav',\n 'MusicDelta_Rock_STEM_03.wav',\n 'MusicDelta_Rock_STEM_04.wav',\n 'MusicDelta_Shadows_STEM_03.wav',\n 'MusicDelta_Shadows_STEM_04.wav',\n 'PortStWillow_StayEven_STEM_05.wav',\n 'PortStWillow_StayEven_STEM_06.wav',\n 'PortStWillow_StayEven_STEM_07.wav',\n 'SecretMountains_HighHorse_STEM_05.wav',\n 'Snowmine_Curfews_STEM_07.wav',\n 'Snowmine_Curfews_STEM_08.wav',\n 'StevenClark_Bounty_STEM_01.wav',\n 'TablaBreakbeatScience_MoodyPlucks_STEM_09.wav',\n 'TablaBreakbeatScience_Vger_STEM_06.wav',\n 'TheDistricts_Vermont_STEM_06.wav',\n 'TheDistricts_Vermont_STEM_07.wav',\n 'TheScarletBrand_LesFleursDuMal_STEM_03.wav',\n 'TheScarletBrand_LesFleursDuMal_STEM_07.wav']"
     },
     "metadata": {},
     "execution_count": 15
    }
   ],
   "source": [
    "clean_el_guitar_stems = []\n",
    "for stems in metadata_df[\"stems\"]:\n",
    "    stems = eval(stems)\n",
    "    for s in stems.values():\n",
    "        if s[\"instrument\"] == \"clean electric guitar\":\n",
    "            clean_el_guitar_stems.append(s[\"filename\"])\n",
    "clean_el_guitar_stems"
   ]
  },
  {
   "cell_type": "markdown",
   "metadata": {},
   "source": [
    "### Création de la liste des TRACKS contenant clean electric guitar"
   ]
  },
  {
   "cell_type": "code",
   "execution_count": 127,
   "metadata": {},
   "outputs": [
    {
     "output_type": "execute_result",
     "data": {
      "text/plain": "{'AClassicEducation_NightOwl',\n 'AimeeNorwich_Child',\n 'AimeeNorwich_Flying',\n 'AlexanderRoss_GoodbyeBolero',\n 'AlexanderRoss_VelvetCurtain',\n 'AmarLal_Rest',\n 'Auctioneer_OurFutureFaces',\n 'CelestialShore_DieForUs',\n 'ChrisJacoby_BoothShotLincoln',\n 'ClaraBerryAndWooldog_AirTraffic',\n 'CroqueMadame_Oil',\n 'CroqueMadame_Pilot',\n 'FacesOnFilm_WaitingForGa',\n 'FamilyBand_Again',\n 'InvisibleFamiliars_DisturbingWildlife',\n 'LizNelson_Rainfall',\n 'Lushlife_ToynbeeSuite',\n 'Meaxic_TakeAStep',\n 'Meaxic_YouListen',\n 'MusicDelta_Beatles',\n 'MusicDelta_Britpop',\n 'MusicDelta_Country2',\n 'MusicDelta_Disco',\n 'MusicDelta_Gospel',\n 'MusicDelta_Reggae',\n 'MusicDelta_Rock',\n 'MusicDelta_Rockabilly',\n 'MusicDelta_Shadows',\n 'PortStWillow_StayEven',\n 'SecretMountains_HighHorse',\n 'Snowmine_Curfews',\n 'StevenClark_Bounty',\n 'TablaBreakbeatScience_MoodyPlucks',\n 'TablaBreakbeatScience_Vger',\n 'TheDistricts_Vermont',\n 'TheScarletBrand_LesFleursDuMal'}"
     },
     "metadata": {},
     "execution_count": 127
    }
   ],
   "source": [
    "clean_el_guitar_tracks = set([s.split(\"_STEM\")[0] for s in clean_el_guitar_stems])\n",
    "clean_el_guitar_tracks"
   ]
  },
  {
   "cell_type": "code",
   "execution_count": 34,
   "metadata": {},
   "outputs": [],
   "source": [
    "blabla = []\n",
    "blablacar = []\n",
    "for stems in metadata_df[\"stems\"]:\n",
    "    stems = eval(stems)\n",
    "    for s in stems.values():\n",
    "        blabla.append(s[\"component\"])\n",
    "        blablacar.append(s[\"filename\"])\n",
    "        \n"
   ]
  },
  {
   "cell_type": "code",
   "execution_count": 372,
   "metadata": {
    "tags": []
   },
   "outputs": [],
   "source": [
    "lsts = []\n",
    "result = zip(blablacar, blabla)\n",
    "result = list(result)\n",
    "for i in result :\n",
    "\n",
    "    for j in clean_el_guitar_stems :\n",
    "\n",
    "        if i[0] == j :\n",
    "            lsts.append(i[1])\n"
   ]
  },
  {
   "cell_type": "code",
   "execution_count": 373,
   "metadata": {
    "tags": []
   },
   "outputs": [
    {
     "output_type": "stream",
     "name": "stdout",
     "text": "[('AClassicEducation_NightOwl_STEM_05.wav', ''), ('AimeeNorwich_Child_STEM_03.wav', ''), ('AimeeNorwich_Flying_STEM_04.wav', 'melody'), ('AimeeNorwich_Flying_STEM_05.wav', 'melody'), ('AlexanderRoss_GoodbyeBolero_STEM_02.wav', ''), ('AlexanderRoss_GoodbyeBolero_STEM_03.wav', 'melody'), ('AlexanderRoss_VelvetCurtain_STEM_02.wav', ''), ('AlexanderRoss_VelvetCurtain_STEM_03.wav', ''), ('AlexanderRoss_VelvetCurtain_STEM_10.wav', ''), ('AmarLal_Rest_STEM_01.wav', 'melody'), ('Auctioneer_OurFutureFaces_STEM_05.wav', ''), ('CelestialShore_DieForUs_STEM_05.wav', ''), ('CelestialShore_DieForUs_STEM_08.wav', 'melody'), ('ChrisJacoby_BoothShotLincoln_STEM_03.wav', ''), ('ClaraBerryAndWooldog_AirTraffic_STEM_04.wav', 'melody'), ('CroqueMadame_Oil_STEM_02.wav', 'melody'), ('CroqueMadame_Pilot_STEM_02.wav', 'melody'), ('FacesOnFilm_WaitingForGa_STEM_05.wav', ''), ('FamilyBand_Again_STEM_05.wav', ''), ('InvisibleFamiliars_DisturbingWildlife_STEM_05.wav', ''), ('LizNelson_Rainfall_STEM_05.wav', ''), ('Lushlife_ToynbeeSuite_STEM_10.wav', ''), ('Lushlife_ToynbeeSuite_STEM_11.wav', ''), ('Lushlife_ToynbeeSuite_STEM_12.wav', ''), ('Meaxic_TakeAStep_STEM_02.wav', ''), ('Meaxic_YouListen_STEM_05.wav', ''), ('MusicDelta_Beatles_STEM_03.wav', ''), ('MusicDelta_Beatles_STEM_04.wav', ''), ('MusicDelta_Beatles_STEM_06.wav', ''), ('MusicDelta_Britpop_STEM_04.wav', ''), ('MusicDelta_Britpop_STEM_05.wav', ''), ('MusicDelta_Britpop_STEM_06.wav', ''), ('MusicDelta_Country2_STEM_03.wav', ''), ('MusicDelta_Country2_STEM_04.wav', ''), ('MusicDelta_Disco_STEM_03.wav', ''), ('MusicDelta_Gospel_STEM_03.wav', ''), ('MusicDelta_Gospel_STEM_04.wav', ''), ('MusicDelta_Reggae_STEM_03.wav', ''), ('MusicDelta_Rockabilly_STEM_04.wav', ''), ('MusicDelta_Rock_STEM_03.wav', ''), ('MusicDelta_Rock_STEM_04.wav', ''), ('MusicDelta_Shadows_STEM_03.wav', ''), ('MusicDelta_Shadows_STEM_04.wav', 'melody'), ('PortStWillow_StayEven_STEM_05.wav', ''), ('PortStWillow_StayEven_STEM_06.wav', ''), ('PortStWillow_StayEven_STEM_07.wav', ''), ('SecretMountains_HighHorse_STEM_05.wav', 'melody'), ('Snowmine_Curfews_STEM_07.wav', ''), ('Snowmine_Curfews_STEM_08.wav', ''), ('StevenClark_Bounty_STEM_01.wav', ''), ('TablaBreakbeatScience_MoodyPlucks_STEM_09.wav', ''), ('TablaBreakbeatScience_Vger_STEM_06.wav', ''), ('TheDistricts_Vermont_STEM_06.wav', ''), ('TheDistricts_Vermont_STEM_07.wav', 'melody'), ('TheScarletBrand_LesFleursDuMal_STEM_03.wav', ''), ('TheScarletBrand_LesFleursDuMal_STEM_07.wav', '')]\n"
    },
    {
     "output_type": "execute_result",
     "data": {
      "text/plain": "Counter({'': 45, 'melody': 11})"
     },
     "metadata": {},
     "execution_count": 373
    }
   ],
   "source": [
    "results = zip(clean_el_guitar_stems, lsts)\n",
    "results = list(results)\n",
    "print(results)\n",
    "Counter(lsts)"
   ]
  },
  {
   "cell_type": "code",
   "execution_count": 374,
   "metadata": {
    "tags": []
   },
   "outputs": [],
   "source": [
    "lsta = []\n",
    "clean_el_guitar_tracks = list(clean_el_guitar_tracks)\n",
    "for i in clean_el_guitar_tracks :\n",
    "    lsta.append(i+('_MIX.wav'))"
   ]
  },
  {
   "cell_type": "code",
   "execution_count": 375,
   "metadata": {
    "tags": []
   },
   "outputs": [],
   "source": [
    "lsto = []\n",
    "has = zip(metadata_df['mix_filename'], metadata_df['has_bleed'])\n",
    "has = list(has)\n",
    "for i in has :\n",
    "    \n",
    "    for j in lsta :\n",
    "        \n",
    "        if i[0] == j :\n",
    "\n",
    "            lsto.append(i[1])"
   ]
  },
  {
   "cell_type": "code",
   "execution_count": 383,
   "metadata": {
    "tags": []
   },
   "outputs": [
    {
     "output_type": "execute_result",
     "data": {
      "text/plain": "[('AClassicEducation_NightOwl_MIX.wav', 'no'),\n ('AimeeNorwich_Child_MIX.wav', 'no'),\n ('AimeeNorwich_Flying_MIX.wav', 'no'),\n ('AlexanderRoss_GoodbyeBolero_MIX.wav', 'no'),\n ('AlexanderRoss_VelvetCurtain_MIX.wav', 'no'),\n ('AmarLal_Rest_MIX.wav', 'no'),\n ('Auctioneer_OurFutureFaces_MIX.wav', 'no'),\n ('CelestialShore_DieForUs_MIX.wav', 'no'),\n ('ChrisJacoby_BoothShotLincoln_MIX.wav', 'no'),\n ('ClaraBerryAndWooldog_AirTraffic_MIX.wav', 'no'),\n ('CroqueMadame_Oil_MIX.wav', 'yes'),\n ('CroqueMadame_Pilot_MIX.wav', 'no'),\n ('FacesOnFilm_WaitingForGa_MIX.wav', 'no'),\n ('FamilyBand_Again_MIX.wav', 'no'),\n ('InvisibleFamiliars_DisturbingWildlife_MIX.wav', 'no'),\n ('LizNelson_Rainfall_MIX.wav', 'no'),\n ('Lushlife_ToynbeeSuite_MIX.wav', 'no'),\n ('Meaxic_TakeAStep_MIX.wav', 'yes'),\n ('Meaxic_YouListen_MIX.wav', 'no'),\n ('MusicDelta_Beatles_MIX.wav', 'no'),\n ('MusicDelta_Britpop_MIX.wav', 'no'),\n ('MusicDelta_Country2_MIX.wav', 'no'),\n ('MusicDelta_Disco_MIX.wav', 'no'),\n ('MusicDelta_Gospel_MIX.wav', 'yes'),\n ('MusicDelta_Reggae_MIX.wav', 'yes'),\n ('MusicDelta_Rock_MIX.wav', 'no'),\n ('MusicDelta_Rockabilly_MIX.wav', 'no'),\n ('MusicDelta_Shadows_MIX.wav', 'no'),\n ('PortStWillow_StayEven_MIX.wav', 'no'),\n ('SecretMountains_HighHorse_MIX.wav', 'no'),\n ('Snowmine_Curfews_MIX.wav', 'no'),\n ('StevenClark_Bounty_MIX.wav', 'no'),\n ('TablaBreakbeatScience_MoodyPlucks_MIX.wav', 'no'),\n ('TablaBreakbeatScience_Vger_MIX.wav', 'no'),\n ('TheDistricts_Vermont_MIX.wav', 'no'),\n ('TheScarletBrand_LesFleursDuMal_MIX.wav', 'no')]"
     },
     "metadata": {},
     "execution_count": 383
    }
   ],
   "source": [
    "hasb = zip(lsta, lsto)\n",
    "hasb = sorted(list(hasb))\n",
    "hasb"
   ]
  },
  {
   "cell_type": "code",
   "execution_count": 347,
   "metadata": {},
   "outputs": [],
   "source": [
    "import seaborn as sns"
   ]
  },
  {
   "cell_type": "code",
   "execution_count": 348,
   "metadata": {
    "tags": []
   },
   "outputs": [],
   "source": [
    "lsto = [i.replace('yes', '1') for i in lsto]\n",
    "lsto = [i.replace('no', '0') for i in lsto]\n",
    "df = pd.DataFrame(lsto) \n"
   ]
  },
  {
   "cell_type": "code",
   "execution_count": 349,
   "metadata": {},
   "outputs": [
    {
     "output_type": "execute_result",
     "data": {
      "text/plain": "<AxesSubplot:>"
     },
     "metadata": {},
     "execution_count": 349
    },
    {
     "output_type": "display_data",
     "data": {
      "text/plain": "<Figure size 432x288 with 1 Axes>",
      "image/svg+xml": "<?xml version=\"1.0\" encoding=\"utf-8\" standalone=\"no\"?>\r\n<!DOCTYPE svg PUBLIC \"-//W3C//DTD SVG 1.1//EN\"\r\n  \"http://www.w3.org/Graphics/SVG/1.1/DTD/svg11.dtd\">\r\n<!-- Created with matplotlib (https://matplotlib.org/) -->\r\n<svg height=\"248.518125pt\" version=\"1.1\" viewBox=\"0 0 368.925 248.518125\" width=\"368.925pt\" xmlns=\"http://www.w3.org/2000/svg\" xmlns:xlink=\"http://www.w3.org/1999/xlink\">\r\n <metadata>\r\n  <rdf:RDF xmlns:cc=\"http://creativecommons.org/ns#\" xmlns:dc=\"http://purl.org/dc/elements/1.1/\" xmlns:rdf=\"http://www.w3.org/1999/02/22-rdf-syntax-ns#\">\r\n   <cc:Work>\r\n    <dc:type rdf:resource=\"http://purl.org/dc/dcmitype/StillImage\"/>\r\n    <dc:date>2020-08-18T17:12:10.590504</dc:date>\r\n    <dc:format>image/svg+xml</dc:format>\r\n    <dc:creator>\r\n     <cc:Agent>\r\n      <dc:title>Matplotlib v3.3.1, https://matplotlib.org/</dc:title>\r\n     </cc:Agent>\r\n    </dc:creator>\r\n   </cc:Work>\r\n  </rdf:RDF>\r\n </metadata>\r\n <defs>\r\n  <style type=\"text/css\">*{stroke-linecap:butt;stroke-linejoin:round;}</style>\r\n </defs>\r\n <g id=\"figure_1\">\r\n  <g id=\"patch_1\">\r\n   <path d=\"M -0 248.518125 \r\nL 368.925 248.518125 \r\nL 368.925 0 \r\nL -0 0 \r\nz\r\n\" style=\"fill:none;\"/>\r\n  </g>\r\n  <g id=\"axes_1\">\r\n   <g id=\"patch_2\">\r\n    <path d=\"M 26.925 224.64 \r\nL 361.725 224.64 \r\nL 361.725 7.2 \r\nL 26.925 7.2 \r\nz\r\n\" style=\"fill:#ffffff;\"/>\r\n   </g>\r\n   <g id=\"patch_3\">\r\n    <path clip-path=\"url(#pad9252aa2b)\" d=\"M 43.665 224.64 \r\nL 177.585 224.64 \r\nL 177.585 198.754286 \r\nL 43.665 198.754286 \r\nz\r\n\" style=\"fill:#3274a1;\"/>\r\n   </g>\r\n   <g id=\"patch_4\">\r\n    <path clip-path=\"url(#pad9252aa2b)\" d=\"M 211.065 224.64 \r\nL 344.985 224.64 \r\nL 344.985 17.554286 \r\nL 211.065 17.554286 \r\nz\r\n\" style=\"fill:#e1812c;\"/>\r\n   </g>\r\n   <g id=\"matplotlib.axis_1\">\r\n    <g id=\"xtick_1\">\r\n     <g id=\"line2d_1\">\r\n      <defs>\r\n       <path d=\"M 0 0 \r\nL 0 3.5 \r\n\" id=\"m059a45bb12\" style=\"stroke:#000000;stroke-width:0.8;\"/>\r\n      </defs>\r\n      <g>\r\n       <use style=\"stroke:#000000;stroke-width:0.8;\" x=\"110.625\" xlink:href=\"#m059a45bb12\" y=\"224.64\"/>\r\n      </g>\r\n     </g>\r\n     <g id=\"text_1\">\r\n      <!-- 4 -->\r\n      <g transform=\"translate(107.44375 239.238437)scale(0.1 -0.1)\">\r\n       <defs>\r\n        <path d=\"M 37.796875 64.3125 \r\nL 12.890625 25.390625 \r\nL 37.796875 25.390625 \r\nz\r\nM 35.203125 72.90625 \r\nL 47.609375 72.90625 \r\nL 47.609375 25.390625 \r\nL 58.015625 25.390625 \r\nL 58.015625 17.1875 \r\nL 47.609375 17.1875 \r\nL 47.609375 0 \r\nL 37.796875 0 \r\nL 37.796875 17.1875 \r\nL 4.890625 17.1875 \r\nL 4.890625 26.703125 \r\nz\r\n\" id=\"DejaVuSans-52\"/>\r\n       </defs>\r\n       <use xlink:href=\"#DejaVuSans-52\"/>\r\n      </g>\r\n     </g>\r\n    </g>\r\n    <g id=\"xtick_2\">\r\n     <g id=\"line2d_2\">\r\n      <g>\r\n       <use style=\"stroke:#000000;stroke-width:0.8;\" x=\"278.025\" xlink:href=\"#m059a45bb12\" y=\"224.64\"/>\r\n      </g>\r\n     </g>\r\n     <g id=\"text_2\">\r\n      <!-- 32 -->\r\n      <g transform=\"translate(271.6625 239.238437)scale(0.1 -0.1)\">\r\n       <defs>\r\n        <path d=\"M 40.578125 39.3125 \r\nQ 47.65625 37.796875 51.625 33 \r\nQ 55.609375 28.21875 55.609375 21.1875 \r\nQ 55.609375 10.40625 48.1875 4.484375 \r\nQ 40.765625 -1.421875 27.09375 -1.421875 \r\nQ 22.515625 -1.421875 17.65625 -0.515625 \r\nQ 12.796875 0.390625 7.625 2.203125 \r\nL 7.625 11.71875 \r\nQ 11.71875 9.328125 16.59375 8.109375 \r\nQ 21.484375 6.890625 26.8125 6.890625 \r\nQ 36.078125 6.890625 40.9375 10.546875 \r\nQ 45.796875 14.203125 45.796875 21.1875 \r\nQ 45.796875 27.640625 41.28125 31.265625 \r\nQ 36.765625 34.90625 28.71875 34.90625 \r\nL 20.21875 34.90625 \r\nL 20.21875 43.015625 \r\nL 29.109375 43.015625 \r\nQ 36.375 43.015625 40.234375 45.921875 \r\nQ 44.09375 48.828125 44.09375 54.296875 \r\nQ 44.09375 59.90625 40.109375 62.90625 \r\nQ 36.140625 65.921875 28.71875 65.921875 \r\nQ 24.65625 65.921875 20.015625 65.03125 \r\nQ 15.375 64.15625 9.8125 62.3125 \r\nL 9.8125 71.09375 \r\nQ 15.4375 72.65625 20.34375 73.4375 \r\nQ 25.25 74.21875 29.59375 74.21875 \r\nQ 40.828125 74.21875 47.359375 69.109375 \r\nQ 53.90625 64.015625 53.90625 55.328125 \r\nQ 53.90625 49.265625 50.4375 45.09375 \r\nQ 46.96875 40.921875 40.578125 39.3125 \r\nz\r\n\" id=\"DejaVuSans-51\"/>\r\n        <path d=\"M 19.1875 8.296875 \r\nL 53.609375 8.296875 \r\nL 53.609375 0 \r\nL 7.328125 0 \r\nL 7.328125 8.296875 \r\nQ 12.9375 14.109375 22.625 23.890625 \r\nQ 32.328125 33.6875 34.8125 36.53125 \r\nQ 39.546875 41.84375 41.421875 45.53125 \r\nQ 43.3125 49.21875 43.3125 52.78125 \r\nQ 43.3125 58.59375 39.234375 62.25 \r\nQ 35.15625 65.921875 28.609375 65.921875 \r\nQ 23.96875 65.921875 18.8125 64.3125 \r\nQ 13.671875 62.703125 7.8125 59.421875 \r\nL 7.8125 69.390625 \r\nQ 13.765625 71.78125 18.9375 73 \r\nQ 24.125 74.21875 28.421875 74.21875 \r\nQ 39.75 74.21875 46.484375 68.546875 \r\nQ 53.21875 62.890625 53.21875 53.421875 \r\nQ 53.21875 48.921875 51.53125 44.890625 \r\nQ 49.859375 40.875 45.40625 35.40625 \r\nQ 44.1875 33.984375 37.640625 27.21875 \r\nQ 31.109375 20.453125 19.1875 8.296875 \r\nz\r\n\" id=\"DejaVuSans-50\"/>\r\n       </defs>\r\n       <use xlink:href=\"#DejaVuSans-51\"/>\r\n       <use x=\"63.623047\" xlink:href=\"#DejaVuSans-50\"/>\r\n      </g>\r\n     </g>\r\n    </g>\r\n   </g>\r\n   <g id=\"matplotlib.axis_2\">\r\n    <g id=\"ytick_1\">\r\n     <g id=\"line2d_3\">\r\n      <defs>\r\n       <path d=\"M 0 0 \r\nL -3.5 0 \r\n\" id=\"ma870e8f5ba\" style=\"stroke:#000000;stroke-width:0.8;\"/>\r\n      </defs>\r\n      <g>\r\n       <use style=\"stroke:#000000;stroke-width:0.8;\" x=\"26.925\" xlink:href=\"#ma870e8f5ba\" y=\"224.64\"/>\r\n      </g>\r\n     </g>\r\n     <g id=\"text_3\">\r\n      <!-- 0 -->\r\n      <g transform=\"translate(13.5625 228.439219)scale(0.1 -0.1)\">\r\n       <defs>\r\n        <path d=\"M 31.78125 66.40625 \r\nQ 24.171875 66.40625 20.328125 58.90625 \r\nQ 16.5 51.421875 16.5 36.375 \r\nQ 16.5 21.390625 20.328125 13.890625 \r\nQ 24.171875 6.390625 31.78125 6.390625 \r\nQ 39.453125 6.390625 43.28125 13.890625 \r\nQ 47.125 21.390625 47.125 36.375 \r\nQ 47.125 51.421875 43.28125 58.90625 \r\nQ 39.453125 66.40625 31.78125 66.40625 \r\nz\r\nM 31.78125 74.21875 \r\nQ 44.046875 74.21875 50.515625 64.515625 \r\nQ 56.984375 54.828125 56.984375 36.375 \r\nQ 56.984375 17.96875 50.515625 8.265625 \r\nQ 44.046875 -1.421875 31.78125 -1.421875 \r\nQ 19.53125 -1.421875 13.0625 8.265625 \r\nQ 6.59375 17.96875 6.59375 36.375 \r\nQ 6.59375 54.828125 13.0625 64.515625 \r\nQ 19.53125 74.21875 31.78125 74.21875 \r\nz\r\n\" id=\"DejaVuSans-48\"/>\r\n       </defs>\r\n       <use xlink:href=\"#DejaVuSans-48\"/>\r\n      </g>\r\n     </g>\r\n    </g>\r\n    <g id=\"ytick_2\">\r\n     <g id=\"line2d_4\">\r\n      <g>\r\n       <use style=\"stroke:#000000;stroke-width:0.8;\" x=\"26.925\" xlink:href=\"#ma870e8f5ba\" y=\"192.282857\"/>\r\n      </g>\r\n     </g>\r\n     <g id=\"text_4\">\r\n      <!-- 5 -->\r\n      <g transform=\"translate(13.5625 196.082076)scale(0.1 -0.1)\">\r\n       <defs>\r\n        <path d=\"M 10.796875 72.90625 \r\nL 49.515625 72.90625 \r\nL 49.515625 64.59375 \r\nL 19.828125 64.59375 \r\nL 19.828125 46.734375 \r\nQ 21.96875 47.46875 24.109375 47.828125 \r\nQ 26.265625 48.1875 28.421875 48.1875 \r\nQ 40.625 48.1875 47.75 41.5 \r\nQ 54.890625 34.8125 54.890625 23.390625 \r\nQ 54.890625 11.625 47.5625 5.09375 \r\nQ 40.234375 -1.421875 26.90625 -1.421875 \r\nQ 22.3125 -1.421875 17.546875 -0.640625 \r\nQ 12.796875 0.140625 7.71875 1.703125 \r\nL 7.71875 11.625 \r\nQ 12.109375 9.234375 16.796875 8.0625 \r\nQ 21.484375 6.890625 26.703125 6.890625 \r\nQ 35.15625 6.890625 40.078125 11.328125 \r\nQ 45.015625 15.765625 45.015625 23.390625 \r\nQ 45.015625 31 40.078125 35.4375 \r\nQ 35.15625 39.890625 26.703125 39.890625 \r\nQ 22.75 39.890625 18.8125 39.015625 \r\nQ 14.890625 38.140625 10.796875 36.28125 \r\nz\r\n\" id=\"DejaVuSans-53\"/>\r\n       </defs>\r\n       <use xlink:href=\"#DejaVuSans-53\"/>\r\n      </g>\r\n     </g>\r\n    </g>\r\n    <g id=\"ytick_3\">\r\n     <g id=\"line2d_5\">\r\n      <g>\r\n       <use style=\"stroke:#000000;stroke-width:0.8;\" x=\"26.925\" xlink:href=\"#ma870e8f5ba\" y=\"159.925714\"/>\r\n      </g>\r\n     </g>\r\n     <g id=\"text_5\">\r\n      <!-- 10 -->\r\n      <g transform=\"translate(7.2 163.724933)scale(0.1 -0.1)\">\r\n       <defs>\r\n        <path d=\"M 12.40625 8.296875 \r\nL 28.515625 8.296875 \r\nL 28.515625 63.921875 \r\nL 10.984375 60.40625 \r\nL 10.984375 69.390625 \r\nL 28.421875 72.90625 \r\nL 38.28125 72.90625 \r\nL 38.28125 8.296875 \r\nL 54.390625 8.296875 \r\nL 54.390625 0 \r\nL 12.40625 0 \r\nz\r\n\" id=\"DejaVuSans-49\"/>\r\n       </defs>\r\n       <use xlink:href=\"#DejaVuSans-49\"/>\r\n       <use x=\"63.623047\" xlink:href=\"#DejaVuSans-48\"/>\r\n      </g>\r\n     </g>\r\n    </g>\r\n    <g id=\"ytick_4\">\r\n     <g id=\"line2d_6\">\r\n      <g>\r\n       <use style=\"stroke:#000000;stroke-width:0.8;\" x=\"26.925\" xlink:href=\"#ma870e8f5ba\" y=\"127.568571\"/>\r\n      </g>\r\n     </g>\r\n     <g id=\"text_6\">\r\n      <!-- 15 -->\r\n      <g transform=\"translate(7.2 131.36779)scale(0.1 -0.1)\">\r\n       <use xlink:href=\"#DejaVuSans-49\"/>\r\n       <use x=\"63.623047\" xlink:href=\"#DejaVuSans-53\"/>\r\n      </g>\r\n     </g>\r\n    </g>\r\n    <g id=\"ytick_5\">\r\n     <g id=\"line2d_7\">\r\n      <g>\r\n       <use style=\"stroke:#000000;stroke-width:0.8;\" x=\"26.925\" xlink:href=\"#ma870e8f5ba\" y=\"95.211429\"/>\r\n      </g>\r\n     </g>\r\n     <g id=\"text_7\">\r\n      <!-- 20 -->\r\n      <g transform=\"translate(7.2 99.010647)scale(0.1 -0.1)\">\r\n       <use xlink:href=\"#DejaVuSans-50\"/>\r\n       <use x=\"63.623047\" xlink:href=\"#DejaVuSans-48\"/>\r\n      </g>\r\n     </g>\r\n    </g>\r\n    <g id=\"ytick_6\">\r\n     <g id=\"line2d_8\">\r\n      <g>\r\n       <use style=\"stroke:#000000;stroke-width:0.8;\" x=\"26.925\" xlink:href=\"#ma870e8f5ba\" y=\"62.854286\"/>\r\n      </g>\r\n     </g>\r\n     <g id=\"text_8\">\r\n      <!-- 25 -->\r\n      <g transform=\"translate(7.2 66.653504)scale(0.1 -0.1)\">\r\n       <use xlink:href=\"#DejaVuSans-50\"/>\r\n       <use x=\"63.623047\" xlink:href=\"#DejaVuSans-53\"/>\r\n      </g>\r\n     </g>\r\n    </g>\r\n    <g id=\"ytick_7\">\r\n     <g id=\"line2d_9\">\r\n      <g>\r\n       <use style=\"stroke:#000000;stroke-width:0.8;\" x=\"26.925\" xlink:href=\"#ma870e8f5ba\" y=\"30.497143\"/>\r\n      </g>\r\n     </g>\r\n     <g id=\"text_9\">\r\n      <!-- 30 -->\r\n      <g transform=\"translate(7.2 34.296362)scale(0.1 -0.1)\">\r\n       <use xlink:href=\"#DejaVuSans-51\"/>\r\n       <use x=\"63.623047\" xlink:href=\"#DejaVuSans-48\"/>\r\n      </g>\r\n     </g>\r\n    </g>\r\n   </g>\r\n   <g id=\"line2d_10\">\r\n    <path clip-path=\"url(#pad9252aa2b)\" d=\"M 0 0 \r\n\" style=\"fill:none;stroke:#424242;stroke-linecap:square;stroke-width:2.7;\"/>\r\n   </g>\r\n   <g id=\"line2d_11\">\r\n    <path clip-path=\"url(#pad9252aa2b)\" d=\"M 0 0 \r\n\" style=\"fill:none;stroke:#424242;stroke-linecap:square;stroke-width:2.7;\"/>\r\n   </g>\r\n   <g id=\"patch_5\">\r\n    <path d=\"M 26.925 224.64 \r\nL 26.925 7.2 \r\n\" style=\"fill:none;stroke:#000000;stroke-linecap:square;stroke-linejoin:miter;stroke-width:0.8;\"/>\r\n   </g>\r\n   <g id=\"patch_6\">\r\n    <path d=\"M 361.725 224.64 \r\nL 361.725 7.2 \r\n\" style=\"fill:none;stroke:#000000;stroke-linecap:square;stroke-linejoin:miter;stroke-width:0.8;\"/>\r\n   </g>\r\n   <g id=\"patch_7\">\r\n    <path d=\"M 26.925 224.64 \r\nL 361.725 224.64 \r\n\" style=\"fill:none;stroke:#000000;stroke-linecap:square;stroke-linejoin:miter;stroke-width:0.8;\"/>\r\n   </g>\r\n   <g id=\"patch_8\">\r\n    <path d=\"M 26.925 7.2 \r\nL 361.725 7.2 \r\n\" style=\"fill:none;stroke:#000000;stroke-linecap:square;stroke-linejoin:miter;stroke-width:0.8;\"/>\r\n   </g>\r\n  </g>\r\n </g>\r\n <defs>\r\n  <clipPath id=\"pad9252aa2b\">\r\n   <rect height=\"217.44\" width=\"334.8\" x=\"26.925\" y=\"7.2\"/>\r\n  </clipPath>\r\n </defs>\r\n</svg>\r\n",
      "image/png": "[encoded data removed]"
     },
     "metadata": {
      "needs_background": "light"
     }
    }
   ],
   "source": [
    "# 32 MIX qui ne sont pas 'has bleed', 4 MIX le sont\n",
    "sns.barplot(x = df.value_counts(), y = df.value_counts())"
   ]
  },
  {
   "cell_type": "code",
   "execution_count": 377,
   "metadata": {},
   "outputs": [],
   "source": [
    "lsts = [i.replace('melody', '1') for i in lsts]\n",
    "\n",
    "df1 = pd.DataFrame(lsts) "
   ]
  },
  {
   "cell_type": "code",
   "execution_count": 382,
   "metadata": {},
   "outputs": [
    {
     "output_type": "execute_result",
     "data": {
      "text/plain": "<AxesSubplot:>"
     },
     "metadata": {},
     "execution_count": 382
    },
    {
     "output_type": "display_data",
     "data": {
      "text/plain": "<Figure size 432x288 with 1 Axes>",
      "image/svg+xml": "<?xml version=\"1.0\" encoding=\"utf-8\" standalone=\"no\"?>\r\n<!DOCTYPE svg PUBLIC \"-//W3C//DTD SVG 1.1//EN\"\r\n  \"http://www.w3.org/Graphics/SVG/1.1/DTD/svg11.dtd\">\r\n<!-- Created with matplotlib (https://matplotlib.org/) -->\r\n<svg height=\"248.518125pt\" version=\"1.1\" viewBox=\"0 0 368.925 248.518125\" width=\"368.925pt\" xmlns=\"http://www.w3.org/2000/svg\" xmlns:xlink=\"http://www.w3.org/1999/xlink\">\r\n <metadata>\r\n  <rdf:RDF xmlns:cc=\"http://creativecommons.org/ns#\" xmlns:dc=\"http://purl.org/dc/elements/1.1/\" xmlns:rdf=\"http://www.w3.org/1999/02/22-rdf-syntax-ns#\">\r\n   <cc:Work>\r\n    <dc:type rdf:resource=\"http://purl.org/dc/dcmitype/StillImage\"/>\r\n    <dc:date>2020-08-18T17:17:19.023536</dc:date>\r\n    <dc:format>image/svg+xml</dc:format>\r\n    <dc:creator>\r\n     <cc:Agent>\r\n      <dc:title>Matplotlib v3.3.1, https://matplotlib.org/</dc:title>\r\n     </cc:Agent>\r\n    </dc:creator>\r\n   </cc:Work>\r\n  </rdf:RDF>\r\n </metadata>\r\n <defs>\r\n  <style type=\"text/css\">*{stroke-linecap:butt;stroke-linejoin:round;}</style>\r\n </defs>\r\n <g id=\"figure_1\">\r\n  <g id=\"patch_1\">\r\n   <path d=\"M -0 248.518125 \r\nL 368.925 248.518125 \r\nL 368.925 0 \r\nL -0 0 \r\nz\r\n\" style=\"fill:none;\"/>\r\n  </g>\r\n  <g id=\"axes_1\">\r\n   <g id=\"patch_2\">\r\n    <path d=\"M 26.925 224.64 \r\nL 361.725 224.64 \r\nL 361.725 7.2 \r\nL 26.925 7.2 \r\nz\r\n\" style=\"fill:#ffffff;\"/>\r\n   </g>\r\n   <g id=\"patch_3\">\r\n    <path clip-path=\"url(#pdbe3a065f0)\" d=\"M 43.665 224.64 \r\nL 177.585 224.64 \r\nL 177.585 174.019048 \r\nL 43.665 174.019048 \r\nz\r\n\" style=\"fill:#3274a1;\"/>\r\n   </g>\r\n   <g id=\"patch_4\">\r\n    <path clip-path=\"url(#pdbe3a065f0)\" d=\"M 211.065 224.64 \r\nL 344.985 224.64 \r\nL 344.985 17.554286 \r\nL 211.065 17.554286 \r\nz\r\n\" style=\"fill:#e1812c;\"/>\r\n   </g>\r\n   <g id=\"matplotlib.axis_1\">\r\n    <g id=\"xtick_1\">\r\n     <g id=\"line2d_1\">\r\n      <defs>\r\n       <path d=\"M 0 0 \r\nL 0 3.5 \r\n\" id=\"md7d2d16ccb\" style=\"stroke:#000000;stroke-width:0.8;\"/>\r\n      </defs>\r\n      <g>\r\n       <use style=\"stroke:#000000;stroke-width:0.8;\" x=\"110.625\" xlink:href=\"#md7d2d16ccb\" y=\"224.64\"/>\r\n      </g>\r\n     </g>\r\n     <g id=\"text_1\">\r\n      <!-- 11 -->\r\n      <g transform=\"translate(104.2625 239.238437)scale(0.1 -0.1)\">\r\n       <defs>\r\n        <path d=\"M 12.40625 8.296875 \r\nL 28.515625 8.296875 \r\nL 28.515625 63.921875 \r\nL 10.984375 60.40625 \r\nL 10.984375 69.390625 \r\nL 28.421875 72.90625 \r\nL 38.28125 72.90625 \r\nL 38.28125 8.296875 \r\nL 54.390625 8.296875 \r\nL 54.390625 0 \r\nL 12.40625 0 \r\nz\r\n\" id=\"DejaVuSans-49\"/>\r\n       </defs>\r\n       <use xlink:href=\"#DejaVuSans-49\"/>\r\n       <use x=\"63.623047\" xlink:href=\"#DejaVuSans-49\"/>\r\n      </g>\r\n     </g>\r\n    </g>\r\n    <g id=\"xtick_2\">\r\n     <g id=\"line2d_2\">\r\n      <g>\r\n       <use style=\"stroke:#000000;stroke-width:0.8;\" x=\"278.025\" xlink:href=\"#md7d2d16ccb\" y=\"224.64\"/>\r\n      </g>\r\n     </g>\r\n     <g id=\"text_2\">\r\n      <!-- 45 -->\r\n      <g transform=\"translate(271.6625 239.238437)scale(0.1 -0.1)\">\r\n       <defs>\r\n        <path d=\"M 37.796875 64.3125 \r\nL 12.890625 25.390625 \r\nL 37.796875 25.390625 \r\nz\r\nM 35.203125 72.90625 \r\nL 47.609375 72.90625 \r\nL 47.609375 25.390625 \r\nL 58.015625 25.390625 \r\nL 58.015625 17.1875 \r\nL 47.609375 17.1875 \r\nL 47.609375 0 \r\nL 37.796875 0 \r\nL 37.796875 17.1875 \r\nL 4.890625 17.1875 \r\nL 4.890625 26.703125 \r\nz\r\n\" id=\"DejaVuSans-52\"/>\r\n        <path d=\"M 10.796875 72.90625 \r\nL 49.515625 72.90625 \r\nL 49.515625 64.59375 \r\nL 19.828125 64.59375 \r\nL 19.828125 46.734375 \r\nQ 21.96875 47.46875 24.109375 47.828125 \r\nQ 26.265625 48.1875 28.421875 48.1875 \r\nQ 40.625 48.1875 47.75 41.5 \r\nQ 54.890625 34.8125 54.890625 23.390625 \r\nQ 54.890625 11.625 47.5625 5.09375 \r\nQ 40.234375 -1.421875 26.90625 -1.421875 \r\nQ 22.3125 -1.421875 17.546875 -0.640625 \r\nQ 12.796875 0.140625 7.71875 1.703125 \r\nL 7.71875 11.625 \r\nQ 12.109375 9.234375 16.796875 8.0625 \r\nQ 21.484375 6.890625 26.703125 6.890625 \r\nQ 35.15625 6.890625 40.078125 11.328125 \r\nQ 45.015625 15.765625 45.015625 23.390625 \r\nQ 45.015625 31 40.078125 35.4375 \r\nQ 35.15625 39.890625 26.703125 39.890625 \r\nQ 22.75 39.890625 18.8125 39.015625 \r\nQ 14.890625 38.140625 10.796875 36.28125 \r\nz\r\n\" id=\"DejaVuSans-53\"/>\r\n       </defs>\r\n       <use xlink:href=\"#DejaVuSans-52\"/>\r\n       <use x=\"63.623047\" xlink:href=\"#DejaVuSans-53\"/>\r\n      </g>\r\n     </g>\r\n    </g>\r\n   </g>\r\n   <g id=\"matplotlib.axis_2\">\r\n    <g id=\"ytick_1\">\r\n     <g id=\"line2d_3\">\r\n      <defs>\r\n       <path d=\"M 0 0 \r\nL -3.5 0 \r\n\" id=\"me8c9559b98\" style=\"stroke:#000000;stroke-width:0.8;\"/>\r\n      </defs>\r\n      <g>\r\n       <use style=\"stroke:#000000;stroke-width:0.8;\" x=\"26.925\" xlink:href=\"#me8c9559b98\" y=\"224.64\"/>\r\n      </g>\r\n     </g>\r\n     <g id=\"text_3\">\r\n      <!-- 0 -->\r\n      <g transform=\"translate(13.5625 228.439219)scale(0.1 -0.1)\">\r\n       <defs>\r\n        <path d=\"M 31.78125 66.40625 \r\nQ 24.171875 66.40625 20.328125 58.90625 \r\nQ 16.5 51.421875 16.5 36.375 \r\nQ 16.5 21.390625 20.328125 13.890625 \r\nQ 24.171875 6.390625 31.78125 6.390625 \r\nQ 39.453125 6.390625 43.28125 13.890625 \r\nQ 47.125 21.390625 47.125 36.375 \r\nQ 47.125 51.421875 43.28125 58.90625 \r\nQ 39.453125 66.40625 31.78125 66.40625 \r\nz\r\nM 31.78125 74.21875 \r\nQ 44.046875 74.21875 50.515625 64.515625 \r\nQ 56.984375 54.828125 56.984375 36.375 \r\nQ 56.984375 17.96875 50.515625 8.265625 \r\nQ 44.046875 -1.421875 31.78125 -1.421875 \r\nQ 19.53125 -1.421875 13.0625 8.265625 \r\nQ 6.59375 17.96875 6.59375 36.375 \r\nQ 6.59375 54.828125 13.0625 64.515625 \r\nQ 19.53125 74.21875 31.78125 74.21875 \r\nz\r\n\" id=\"DejaVuSans-48\"/>\r\n       </defs>\r\n       <use xlink:href=\"#DejaVuSans-48\"/>\r\n      </g>\r\n     </g>\r\n    </g>\r\n    <g id=\"ytick_2\">\r\n     <g id=\"line2d_4\">\r\n      <g>\r\n       <use style=\"stroke:#000000;stroke-width:0.8;\" x=\"26.925\" xlink:href=\"#me8c9559b98\" y=\"178.620952\"/>\r\n      </g>\r\n     </g>\r\n     <g id=\"text_4\">\r\n      <!-- 10 -->\r\n      <g transform=\"translate(7.2 182.420171)scale(0.1 -0.1)\">\r\n       <use xlink:href=\"#DejaVuSans-49\"/>\r\n       <use x=\"63.623047\" xlink:href=\"#DejaVuSans-48\"/>\r\n      </g>\r\n     </g>\r\n    </g>\r\n    <g id=\"ytick_3\">\r\n     <g id=\"line2d_5\">\r\n      <g>\r\n       <use style=\"stroke:#000000;stroke-width:0.8;\" x=\"26.925\" xlink:href=\"#me8c9559b98\" y=\"132.601905\"/>\r\n      </g>\r\n     </g>\r\n     <g id=\"text_5\">\r\n      <!-- 20 -->\r\n      <g transform=\"translate(7.2 136.401124)scale(0.1 -0.1)\">\r\n       <defs>\r\n        <path d=\"M 19.1875 8.296875 \r\nL 53.609375 8.296875 \r\nL 53.609375 0 \r\nL 7.328125 0 \r\nL 7.328125 8.296875 \r\nQ 12.9375 14.109375 22.625 23.890625 \r\nQ 32.328125 33.6875 34.8125 36.53125 \r\nQ 39.546875 41.84375 41.421875 45.53125 \r\nQ 43.3125 49.21875 43.3125 52.78125 \r\nQ 43.3125 58.59375 39.234375 62.25 \r\nQ 35.15625 65.921875 28.609375 65.921875 \r\nQ 23.96875 65.921875 18.8125 64.3125 \r\nQ 13.671875 62.703125 7.8125 59.421875 \r\nL 7.8125 69.390625 \r\nQ 13.765625 71.78125 18.9375 73 \r\nQ 24.125 74.21875 28.421875 74.21875 \r\nQ 39.75 74.21875 46.484375 68.546875 \r\nQ 53.21875 62.890625 53.21875 53.421875 \r\nQ 53.21875 48.921875 51.53125 44.890625 \r\nQ 49.859375 40.875 45.40625 35.40625 \r\nQ 44.1875 33.984375 37.640625 27.21875 \r\nQ 31.109375 20.453125 19.1875 8.296875 \r\nz\r\n\" id=\"DejaVuSans-50\"/>\r\n       </defs>\r\n       <use xlink:href=\"#DejaVuSans-50\"/>\r\n       <use x=\"63.623047\" xlink:href=\"#DejaVuSans-48\"/>\r\n      </g>\r\n     </g>\r\n    </g>\r\n    <g id=\"ytick_4\">\r\n     <g id=\"line2d_6\">\r\n      <g>\r\n       <use style=\"stroke:#000000;stroke-width:0.8;\" x=\"26.925\" xlink:href=\"#me8c9559b98\" y=\"86.582857\"/>\r\n      </g>\r\n     </g>\r\n     <g id=\"text_6\">\r\n      <!-- 30 -->\r\n      <g transform=\"translate(7.2 90.382076)scale(0.1 -0.1)\">\r\n       <defs>\r\n        <path d=\"M 40.578125 39.3125 \r\nQ 47.65625 37.796875 51.625 33 \r\nQ 55.609375 28.21875 55.609375 21.1875 \r\nQ 55.609375 10.40625 48.1875 4.484375 \r\nQ 40.765625 -1.421875 27.09375 -1.421875 \r\nQ 22.515625 -1.421875 17.65625 -0.515625 \r\nQ 12.796875 0.390625 7.625 2.203125 \r\nL 7.625 11.71875 \r\nQ 11.71875 9.328125 16.59375 8.109375 \r\nQ 21.484375 6.890625 26.8125 6.890625 \r\nQ 36.078125 6.890625 40.9375 10.546875 \r\nQ 45.796875 14.203125 45.796875 21.1875 \r\nQ 45.796875 27.640625 41.28125 31.265625 \r\nQ 36.765625 34.90625 28.71875 34.90625 \r\nL 20.21875 34.90625 \r\nL 20.21875 43.015625 \r\nL 29.109375 43.015625 \r\nQ 36.375 43.015625 40.234375 45.921875 \r\nQ 44.09375 48.828125 44.09375 54.296875 \r\nQ 44.09375 59.90625 40.109375 62.90625 \r\nQ 36.140625 65.921875 28.71875 65.921875 \r\nQ 24.65625 65.921875 20.015625 65.03125 \r\nQ 15.375 64.15625 9.8125 62.3125 \r\nL 9.8125 71.09375 \r\nQ 15.4375 72.65625 20.34375 73.4375 \r\nQ 25.25 74.21875 29.59375 74.21875 \r\nQ 40.828125 74.21875 47.359375 69.109375 \r\nQ 53.90625 64.015625 53.90625 55.328125 \r\nQ 53.90625 49.265625 50.4375 45.09375 \r\nQ 46.96875 40.921875 40.578125 39.3125 \r\nz\r\n\" id=\"DejaVuSans-51\"/>\r\n       </defs>\r\n       <use xlink:href=\"#DejaVuSans-51\"/>\r\n       <use x=\"63.623047\" xlink:href=\"#DejaVuSans-48\"/>\r\n      </g>\r\n     </g>\r\n    </g>\r\n    <g id=\"ytick_5\">\r\n     <g id=\"line2d_7\">\r\n      <g>\r\n       <use style=\"stroke:#000000;stroke-width:0.8;\" x=\"26.925\" xlink:href=\"#me8c9559b98\" y=\"40.56381\"/>\r\n      </g>\r\n     </g>\r\n     <g id=\"text_7\">\r\n      <!-- 40 -->\r\n      <g transform=\"translate(7.2 44.363028)scale(0.1 -0.1)\">\r\n       <use xlink:href=\"#DejaVuSans-52\"/>\r\n       <use x=\"63.623047\" xlink:href=\"#DejaVuSans-48\"/>\r\n      </g>\r\n     </g>\r\n    </g>\r\n   </g>\r\n   <g id=\"line2d_8\">\r\n    <path clip-path=\"url(#pdbe3a065f0)\" d=\"M 0 0 \r\n\" style=\"fill:none;stroke:#424242;stroke-linecap:square;stroke-width:2.7;\"/>\r\n   </g>\r\n   <g id=\"line2d_9\">\r\n    <path clip-path=\"url(#pdbe3a065f0)\" d=\"M 0 0 \r\n\" style=\"fill:none;stroke:#424242;stroke-linecap:square;stroke-width:2.7;\"/>\r\n   </g>\r\n   <g id=\"patch_5\">\r\n    <path d=\"M 26.925 224.64 \r\nL 26.925 7.2 \r\n\" style=\"fill:none;stroke:#000000;stroke-linecap:square;stroke-linejoin:miter;stroke-width:0.8;\"/>\r\n   </g>\r\n   <g id=\"patch_6\">\r\n    <path d=\"M 361.725 224.64 \r\nL 361.725 7.2 \r\n\" style=\"fill:none;stroke:#000000;stroke-linecap:square;stroke-linejoin:miter;stroke-width:0.8;\"/>\r\n   </g>\r\n   <g id=\"patch_7\">\r\n    <path d=\"M 26.925 224.64 \r\nL 361.725 224.64 \r\n\" style=\"fill:none;stroke:#000000;stroke-linecap:square;stroke-linejoin:miter;stroke-width:0.8;\"/>\r\n   </g>\r\n   <g id=\"patch_8\">\r\n    <path d=\"M 26.925 7.2 \r\nL 361.725 7.2 \r\n\" style=\"fill:none;stroke:#000000;stroke-linecap:square;stroke-linejoin:miter;stroke-width:0.8;\"/>\r\n   </g>\r\n  </g>\r\n </g>\r\n <defs>\r\n  <clipPath id=\"pdbe3a065f0\">\r\n   <rect height=\"217.44\" width=\"334.8\" x=\"26.925\" y=\"7.2\"/>\r\n  </clipPath>\r\n </defs>\r\n</svg>\r\n",
      "image/png": "[encoded data removed]"
     },
     "metadata": {
      "needs_background": "light"
     }
    }
   ],
   "source": [
    "# 11 pistes sont en mélodie, 45 ne sont rien (ni bass, ni mélodie).\n",
    "\n",
    "sns.barplot(x = df1.value_counts(), y = df1.value_counts())\n"
   ]
  },
  {
   "cell_type": "code",
   "execution_count": 17,
   "metadata": {},
   "outputs": [],
   "source": [
    "from collections import Counter"
   ]
  },
  {
   "cell_type": "code",
   "execution_count": 18,
   "metadata": {
    "tags": []
   },
   "outputs": [
    {
     "output_type": "error",
     "ename": "NameError",
     "evalue": "name 'instru' is not defined",
     "traceback": [
      "\u001b[1;31m---------------------------------------------------------------------------\u001b[0m",
      "\u001b[1;31mNameError\u001b[0m                                 Traceback (most recent call last)",
      "\u001b[1;32m<ipython-input-18-443dbf89ac9f>\u001b[0m in \u001b[0;36m<module>\u001b[1;34m\u001b[0m\n\u001b[0;32m      2\u001b[0m \u001b[0mlstf\u001b[0m \u001b[1;33m=\u001b[0m \u001b[1;33m[\u001b[0m\u001b[1;33m]\u001b[0m\u001b[1;33m\u001b[0m\u001b[1;33m\u001b[0m\u001b[0m\n\u001b[0;32m      3\u001b[0m \u001b[1;33m\u001b[0m\u001b[0m\n\u001b[1;32m----> 4\u001b[1;33m \u001b[1;32mfor\u001b[0m \u001b[0mi\u001b[0m \u001b[1;32min\u001b[0m \u001b[0mrange\u001b[0m\u001b[1;33m(\u001b[0m\u001b[1;36m0\u001b[0m\u001b[1;33m,\u001b[0m\u001b[0mlen\u001b[0m\u001b[1;33m(\u001b[0m\u001b[0minstru\u001b[0m\u001b[1;33m[\u001b[0m\u001b[1;34m'stems'\u001b[0m\u001b[1;33m]\u001b[0m\u001b[1;33m)\u001b[0m\u001b[1;33m,\u001b[0m\u001b[1;36m1\u001b[0m\u001b[1;33m)\u001b[0m \u001b[1;33m:\u001b[0m\u001b[1;33m\u001b[0m\u001b[1;33m\u001b[0m\u001b[0m\n\u001b[0m\u001b[0;32m      5\u001b[0m \u001b[1;33m\u001b[0m\u001b[0m\n\u001b[0;32m      6\u001b[0m     \u001b[0ms\u001b[0m \u001b[1;33m=\u001b[0m \u001b[0meval\u001b[0m\u001b[1;33m(\u001b[0m\u001b[0minstru\u001b[0m\u001b[1;33m.\u001b[0m\u001b[0miloc\u001b[0m\u001b[1;33m[\u001b[0m\u001b[0mi\u001b[0m\u001b[1;33m]\u001b[0m\u001b[1;33m.\u001b[0m\u001b[0mstems\u001b[0m\u001b[1;33m)\u001b[0m\u001b[1;33m\u001b[0m\u001b[1;33m\u001b[0m\u001b[0m\n",
      "\u001b[1;31mNameError\u001b[0m: name 'instru' is not defined"
     ]
    }
   ],
   "source": [
    "dico = {}\n",
    "lstf = []\n",
    "\n",
    "for i in range(0,len(instru['stems']),1) : \n",
    "\n",
    "    s = eval(instru.iloc[i].stems)\n",
    "\n",
    "    for c in s:\n",
    "\n",
    "        piste = (s[c][\"filename\"])\n",
    "        inst = (s[c][\"instrument\"])\n",
    "        dico[piste] = inst\n",
    "        lstf.append(inst)\n"
   ]
  },
  {
   "cell_type": "code",
   "execution_count": null,
   "metadata": {},
   "outputs": [],
   "source": []
  },
  {
   "cell_type": "code",
   "execution_count": null,
   "metadata": {
    "tags": []
   },
   "outputs": [],
   "source": [
    "lstp = []\n",
    "\n",
    "for key, values in dico.items() :\n",
    "\n",
    "    lstp.append(key)\n",
    "\n",
    "    if key[:20] == \n",
    "\n",
    "        \n",
    "\n"
   ]
  },
  {
   "cell_type": "code",
   "execution_count": 24,
   "metadata": {},
   "outputs": [
    {
     "output_type": "execute_result",
     "data": {
      "text/plain": "Counter({'drum set': 18,\n         'fx/processed sound': 27,\n         'electric bass': 17,\n         'clean electric guitar': 10,\n         'piano': 18,\n         'cello': 13,\n         'trombone': 4,\n         'clarinet': 8,\n         'acoustic guitar': 11,\n         'drum machine': 12,\n         'mandolin': 9,\n         'tabla': 16,\n         'kick drum': 1,\n         'double bass': 16,\n         'auxiliary percussion': 6,\n         'synthesizer': 16,\n         'string section': 3,\n         'distorted electric guitar': 6,\n         'harmonica': 1,\n         'violin': 27,\n         'viola': 8,\n         'chimes': 1,\n         'snare drum': 1,\n         'flute': 12,\n         'french horn': 6,\n         'bassoon': 6,\n         'horn section': 2,\n         'trumpet': 8,\n         'tack piano': 3,\n         'violin section': 15,\n         'Main System': 6,\n         'claps': 1,\n         'darbuka': 1,\n         'doumbek': 1,\n         'oud': 2,\n         'bongo': 1,\n         'vocalists': 1,\n         'glockenspiel': 1,\n         'harp': 3,\n         'french horn section': 3,\n         'oboe': 5,\n         'bass drum': 1,\n         'cello section': 5,\n         'clarinet section': 3,\n         'cymbal': 4,\n         'gong': 2,\n         'flute section': 2,\n         'bamboo flute': 1,\n         'piccolo': 4,\n         'trombone section': 1,\n         'trumpet section': 3,\n         'viola section': 3,\n         'tenor saxophone': 2,\n         'timpani': 4,\n         'dizi': 5,\n         'erhu': 6,\n         'guzheng': 5,\n         'yangqin': 6,\n         'zhongruan': 3,\n         'liuqin': 2,\n         'gu': 1,\n         'baritone saxophone': 1,\n         'bass clarinet': 1,\n         'electric piano': 3,\n         'alto saxophone': 1,\n         'soprano saxophone': 1,\n         'brass section': 3,\n         'tuba': 2,\n         'toms': 1,\n         'accordion': 5})"
     },
     "metadata": {},
     "execution_count": 24
    }
   ],
   "source": [
    "Counter(lstf)"
   ]
  },
  {
   "cell_type": "code",
   "execution_count": null,
   "metadata": {},
   "outputs": [],
   "source": []
  },
  {
   "cell_type": "code",
   "execution_count": null,
   "metadata": {},
   "outputs": [],
   "source": [
    "def contains_guitar(f):\n",
    "    f = eval(f)\n",
    "    return \"clean electric guitar\" in [f[c][\"instrument\"] for c in f]"
   ]
  },
  {
   "cell_type": "code",
   "execution_count": null,
   "metadata": {},
   "outputs": [],
   "source": [
    "instru.loc[:, \"guitar\"] = instru.loc[:, \"stems\"]"
   ]
  },
  {
   "cell_type": "code",
   "execution_count": null,
   "metadata": {},
   "outputs": [],
   "source": [
    "instru.loc[:, \"guitar\"] = instru[\"guitar\"].map(contains_guitar)"
   ]
  },
  {
   "cell_type": "code",
   "execution_count": null,
   "metadata": {},
   "outputs": [],
   "source": [
    "instru[instru[\"guitar\"] == 1]"
   ]
  },
  {
   "cell_type": "code",
   "execution_count": null,
   "metadata": {},
   "outputs": [],
   "source": []
  },
  {
   "cell_type": "code",
   "execution_count": null,
   "metadata": {},
   "outputs": [],
   "source": []
  }
 ],
 "metadata": {
  "kernelspec": {
   "display_name": "Python 3.8.5 64-bit",
   "language": "python",
   "name": "python_defaultSpec_1597740658548"
  },
  "language_info": {
   "codemirror_mode": {
    "name": "ipython",
    "version": 3
   },
   "file_extension": ".py",
   "mimetype": "text/x-python",
   "name": "python",
   "nbconvert_exporter": "python",
   "pygments_lexer": "ipython3",
   "version": "3.8.5-final"
  }
 },
 "nbformat": 4,
 "nbformat_minor": 4
}